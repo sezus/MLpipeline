{
 "cells": [
  {
   "cell_type": "code",
   "execution_count": 1,
   "metadata": {},
   "outputs": [],
   "source": [
    "import os\n",
    "import sys\n",
    "sys.path.append('..') \n",
    "import yaml\n",
    "import pandas as pd\n",
    "import numpy as np\n",
    "import pickle\n",
    "from src.utils.utils_p import YamlParser,Upload_Download_Pickle,Config_Paths,Feature_Selection_Configs,Model_Configs,Create_Labels_Configs\n",
    "from src.data.CollectData.CollectDataFromCSV import *\n",
    "from src.preprocessing.Data_Preprocessing import *\n",
    "from src.combineDatasets.Combine_Datasets import *\n",
    "from src.featureProcessing.SplitDataset.Split_Train_Test import *\n",
    "from src.featureProcessing.SplitDataset.Vertical_Split import *\n",
    "from src.featureProcessing.Feature_Selection.Basic_Elemination import *\n",
    "from src.featureProcessing.Feature_Selection.Wrapper import *\n",
    "from src.featureProcessing.Feature_Selection.Hybrid import *\n",
    "from src.featureProcessing.Feature_Extraction.Normalize import *\n",
    "#from src.processing.Model import *\n",
    "from src.model.Classification.Random_Forest_Tuning import *\n",
    "from src.model.Classification.XGBoost_Tuning import *\n",
    "from src.model.Classification.LightGBM_Tuning import *\n",
    "from src.model.Classification.CatBoost_Tuning import *\n",
    "from src.model.Classification.SVC_Tuning import *\n",
    "from src.model.Classification.Voting import *\n",
    "pd.set_option('display.max_columns',None)\n",
    "pd.set_option('display.max_rows',None)"
   ]
  },
  {
   "cell_type": "code",
   "execution_count": 2,
   "metadata": {},
   "outputs": [],
   "source": [
    "path=Config_Paths().get_processed_path()\n",
    "cpath=Config_Paths().get_combineddatasets_path()\n",
    "rpath=Config_Paths().get_raw_path()\n",
    "prepath=Config_Paths().get_intermediate_path()\n"
   ]
  },
  {
   "cell_type": "code",
   "execution_count": null,
   "metadata": {},
   "outputs": [],
   "source": []
  },
  {
   "cell_type": "code",
   "execution_count": null,
   "metadata": {},
   "outputs": [],
   "source": [
    "#PERIOD yerine YEAR_MONTH_DAY geldi.\n",
    "LogsT02=Upload_Download_Pickle().download_pickle(prepath, 'Features_not_normalT02')\n",
    "LabelsT02=Upload_Download_Pickle().download_pickle(prepath, 'Labels_not_normalT02')\n",
    "LogsT03=Upload_Download_Pickle().download_pickle(prepath, 'Features_not_normalT03')\n",
    "LogsT52=Upload_Download_Pickle().download_pickle(prepath, 'Features_not_normalT52')\n"
   ]
  },
  {
   "cell_type": "raw",
   "metadata": {},
   "source": [
    "LabelsT02.head()"
   ]
  },
  {
   "cell_type": "code",
   "execution_count": null,
   "metadata": {},
   "outputs": [],
   "source": [
    "LogsT02.State_Fault.astype(int).unique()"
   ]
  },
  {
   "cell_type": "code",
   "execution_count": null,
   "metadata": {},
   "outputs": [],
   "source": [
    "LogsT02=pd.merge(LogsT02,LabelsT02[['Pitch systemEv_multiclass','Pitch systemEv','Period']])"
   ]
  },
  {
   "cell_type": "code",
   "execution_count": null,
   "metadata": {},
   "outputs": [],
   "source": [
    "from datetime import datetime, timedelta\n",
    "LogsT02['onedayPeriod']=LogsT02['Period'].astype('datetime64[ns]')- timedelta(days=1)\n",
    "LogsT02['fivedaysPeriod']=LogsT02['Period'].astype('datetime64[ns]')- timedelta(days=5)\n",
    "LogsT02['fiftheendaysPeriod']=LogsT02['Period'].astype('datetime64[ns]')- timedelta(days=15)\n"
   ]
  },
  {
   "cell_type": "code",
   "execution_count": null,
   "metadata": {},
   "outputs": [],
   "source": [
    "LogsT02=LogsT02.set_index('Period')\n",
    "tag=LogsT02[LogsT02['Pitch systemEv']=='EVENT_134']\n"
   ]
  },
  {
   "cell_type": "code",
   "execution_count": null,
   "metadata": {},
   "outputs": [],
   "source": [
    "for i in tag.index:\n",
    "    print(i)\n",
    "    print(tag.loc[i,'onedayPeriod'])\n",
    "    LogsT02['New_Pitch_systemEv']=np.where((LogsT02.index<=i)&(LogsT02.index>tag.loc[i,'fiftheendaysPeriod']),'EVENT_134_fifthteen',0)    \n",
    "    LogsT02['New_Pitch_systemEv']=np.where((LogsT02.index<=i)&(LogsT02.index>tag.loc[i,'fivedaysPeriod']),'EVENT_134_five',LogsT02['New_Pitch_systemEv'])  \n",
    "    LogsT02['New_Pitch_systemEv']=np.where((LogsT02.index<=i)&(LogsT02.index>tag.loc[i,'onedayPeriod']),'EVENT_134_one',LogsT02['New_Pitch_systemEv'])\n",
    "  \n",
    "    "
   ]
  },
  {
   "cell_type": "code",
   "execution_count": null,
   "metadata": {},
   "outputs": [],
   "source": [
    "LogsT02 ['New_Pitch_systemEv'].unique()"
   ]
  },
  {
   "cell_type": "code",
   "execution_count": null,
   "metadata": {},
   "outputs": [],
   "source": [
    "tag_plot=LogsT02[LogsT02['New_Pitch_systemEv']!=0]"
   ]
  },
  {
   "cell_type": "code",
   "execution_count": null,
   "metadata": {
    "scrolled": true
   },
   "outputs": [],
   "source": [
    "#CollectData from given dataset\n",
    "CollectDataFromCSV().upload_all_datasets() "
   ]
  },
  {
   "cell_type": "code",
   "execution_count": null,
   "metadata": {},
   "outputs": [],
   "source": [
    "col_22=[col.replace(\" 22 \", \" \") for col in LogsT22.columns]\n",
    "col_02=[col.replace(\" 02 \", \" \") for col in LogsT02.columns]"
   ]
  },
  {
   "cell_type": "code",
   "execution_count": null,
   "metadata": {},
   "outputs": [],
   "source": [
    "[items for items in col_02 if items not in col_22]"
   ]
  },
  {
   "cell_type": "code",
   "execution_count": null,
   "metadata": {},
   "outputs": [],
   "source": [
    "[items for items in col_22 if items not in col_02]"
   ]
  },
  {
   "cell_type": "code",
   "execution_count": null,
   "metadata": {},
   "outputs": [],
   "source": [
    "LogsT22=Upload_Download_Pickle().download_pickle(rpath, 'LogsT22')"
   ]
  },
  {
   "cell_type": "code",
   "execution_count": null,
   "metadata": {},
   "outputs": [],
   "source": [
    "FaultsT22=Upload_Download_Pickle().download_pickle(rpath, 'FaultsT22')"
   ]
  },
  {
   "cell_type": "code",
   "execution_count": null,
   "metadata": {},
   "outputs": [],
   "source": [
    "LogsT22.describe()"
   ]
  },
  {
   "cell_type": "code",
   "execution_count": null,
   "metadata": {},
   "outputs": [],
   "source": [
    "# Duration'ı saat'e çevir onu al!\n",
    "FaultsT22['Duration (hh:mm:ss)'].dtypes"
   ]
  },
  {
   "cell_type": "code",
   "execution_count": null,
   "metadata": {},
   "outputs": [],
   "source": [
    "# Hata ne sıklıkla geliyor bunu al!!\n",
    "Fault_count=FaultsT22[['Event ID','Category','Description','Lost Production (kWh)']].groupby(['Event ID','Category','Description']).count()\n",
    "# Hata toplam Lost:\n",
    "Fault_total_Lost=FaultsT22[['Event ID','Category','Description','Lost Production (kWh)']].groupby(['Event ID','Category','Description']).sum().sort_values(by='Lost Production (kWh)',ascending=False)\n",
    "\n",
    "## En son hepsini merge et!"
   ]
  },
  {
   "cell_type": "code",
   "execution_count": null,
   "metadata": {},
   "outputs": [],
   "source": [
    "sum_list=LogsT02.isna().sum()"
   ]
  },
  {
   "cell_type": "code",
   "execution_count": null,
   "metadata": {},
   "outputs": [],
   "source": [
    "#CollectData from given dataset\n",
    "CollectDataFromCSV().upload_all_datasets() \n",
    "\n",
    "#Clearn-Normalize-Combine dataset\n",
    "Data_Preprocessing().preprocessing()"
   ]
  },
  {
   "cell_type": "code",
   "execution_count": null,
   "metadata": {},
   "outputs": [],
   "source": [
    "Features_not_normalT02=Upload_Download_Pickle().download_pickle(prepath, 'Features_not_normalT02')\n",
    "Labels_not_normalT02=Upload_Download_Pickle().download_pickle(prepath, 'Labels_not_normalT02')\n",
    "Features_not_normalT22=Upload_Download_Pickle().download_pickle(prepath, 'Features_not_normalT22')\n",
    "Labels_not_normalT22=Upload_Download_Pickle().download_pickle(prepath, 'Labels_not_normalT22')\n",
    "Logs_all_fillT22=Upload_Download_Pickle().download_pickle(prepath, 'Logs_all_fillT22')\n",
    "Logs_all_fillT02=Upload_Download_Pickle().download_pickle(prepath, 'Logs_all_fillT02')"
   ]
  },
  {
   "cell_type": "code",
   "execution_count": null,
   "metadata": {},
   "outputs": [],
   "source": [
    "Labels_not_normalT02['Pitch systemEv'].unique()"
   ]
  },
  {
   "cell_type": "code",
   "execution_count": null,
   "metadata": {},
   "outputs": [],
   "source": [
    "Labels_not_normalT02.columns"
   ]
  },
  {
   "cell_type": "code",
   "execution_count": null,
   "metadata": {},
   "outputs": [],
   "source": [
    "Features_not_normalT02.head()"
   ]
  },
  {
   "cell_type": "code",
   "execution_count": null,
   "metadata": {},
   "outputs": [],
   "source": [
    "#Combine Multiple Identical Datasets\n",
    "Combine_Datasets().multi_combine_dataset()"
   ]
  },
  {
   "cell_type": "code",
   "execution_count": null,
   "metadata": {},
   "outputs": [],
   "source": [
    "#PERIOD yerine YEAR_MONTH_DAY geldi.\n",
    "Features_df=Upload_Download_Pickle().download_pickle(cpath, 'Features_df')\n",
    "AllLabels_df=Upload_Download_Pickle().download_pickle(cpath, 'AllLabels_df')\n",
    "Labels_df=Upload_Download_Pickle().download_pickle(cpath, 'Labels_df')\n"
   ]
  },
  {
   "cell_type": "code",
   "execution_count": null,
   "metadata": {},
   "outputs": [],
   "source": [
    "Features_df[Features_df['TURBINE_NUMBER'].isin(['T22'])].head()"
   ]
  },
  {
   "cell_type": "raw",
   "metadata": {},
   "source": [
    "\n",
    "Features_df['YEAR_MONTH']=Features_df['Period'].astype('datetime64[ns]').dt.year*100+Features_df['Period'].astype('datetime64[ns]').dt.month\n",
    "Features_df['DAY']=Features_df['Period'].astype('datetime64[ns]').dt.day\n",
    "\n",
    "Labels_df['YEAR_MONTH']=Labels_df['Period'].astype('datetime64[ns]').dt.year*100+Labels_df['Period'].astype('datetime64[ns]').dt.month\n",
    "Labels_df['DAY']=Labels_df['Period'].astype('datetime64[ns]').dt.day\n",
    "\n",
    "AllLabels_df['YEAR_MONTH']=AllLabels_df['Period'].astype('datetime64[ns]').dt.year*100+AllLabels_df['Period'].astype('datetime64[ns]').dt.month\n",
    "AllLabels_df['DAY']=AllLabels_df['Period'].astype('datetime64[ns]').dt.day\n",
    "\n",
    "\n",
    "#OOT Dataset\n",
    "Features_oot=Features_df[Features_df['YEAR_MONTH']==201912].copy()\n",
    "AllLabels_oot=AllLabels_df[AllLabels_df['YEAR_MONTH']==201912].copy()\n",
    "Labels_oot=Labels_df[Labels_df['YEAR_MONTH']==201912].copy()\n",
    "Features_df=Features_df[Features_df['YEAR_MONTH']<201912].copy()\n",
    "AllLabels_df=AllLabels_df[AllLabels_df['YEAR_MONTH']<201912].copy()\n",
    "Labels_df=Labels_df[Labels_df['YEAR_MONTH']<201912].copy()\n",
    "\n",
    "Upload_Download_Pickle().save_dataset_pickle(cpath,'Features_oot',Features_oot)\n",
    "Upload_Download_Pickle().save_dataset_pickle(cpath,'AllLabels_oot',AllLabels_oot)\n",
    "Upload_Download_Pickle().save_dataset_pickle(cpath,'Labels_oot',Labels_oot)\n",
    "\n",
    "Upload_Download_Pickle().save_dataset_pickle(cpath,'Features_df',Features_df)\n",
    "Upload_Download_Pickle().save_dataset_pickle(cpath,'AllLabels_df',AllLabels_df)\n",
    "Upload_Download_Pickle().save_dataset_pickle(cpath,'Labels_df',Labels_df)\n"
   ]
  },
  {
   "cell_type": "raw",
   "metadata": {},
   "source": [
    "Features_df[['Power_kW_avg','Windspeed_m_s_avg']]"
   ]
  },
  {
   "cell_type": "raw",
   "metadata": {},
   "source": [
    "Features_df[['Power_kW_avg','Windspeed_m_s_avg']].plot()\n"
   ]
  },
  {
   "cell_type": "code",
   "execution_count": null,
   "metadata": {},
   "outputs": [],
   "source": [
    "Features_df.describe()"
   ]
  },
  {
   "cell_type": "code",
   "execution_count": null,
   "metadata": {},
   "outputs": [],
   "source": [
    "Features_df[Features_df['Events_binary']==1]['State_Fault'].unique()"
   ]
  },
  {
   "cell_type": "code",
   "execution_count": null,
   "metadata": {},
   "outputs": [],
   "source": [
    "Vertical_Split().split_train_testset()"
   ]
  },
  {
   "cell_type": "code",
   "execution_count": null,
   "metadata": {},
   "outputs": [],
   "source": [
    "#Split Hold-0ut Dataset\n",
    "Split_Train_Test().split_train_testset()"
   ]
  },
  {
   "cell_type": "code",
   "execution_count": null,
   "metadata": {},
   "outputs": [],
   "source": [
    "X_test=Upload_Download_Pickle().download_pickle(path, 'X_test')\n",
    "y_test=Upload_Download_Pickle().download_pickle(path, 'y_test')\n",
    "X_trains=Upload_Download_Pickle().download_pickle(path, 'X_trains')\n",
    "y_trains=Upload_Download_Pickle().download_pickle(path, 'y_trains')"
   ]
  },
  {
   "cell_type": "code",
   "execution_count": null,
   "metadata": {},
   "outputs": [],
   "source": [
    "Basic_Elemination().featureSelection()"
   ]
  },
  {
   "cell_type": "code",
   "execution_count": null,
   "metadata": {},
   "outputs": [],
   "source": [
    "meta=Upload_Download_Pickle().download_pickle(path, 'meta')"
   ]
  },
  {
   "cell_type": "code",
   "execution_count": null,
   "metadata": {},
   "outputs": [],
   "source": [
    "meta.groupby('STATUS').count()"
   ]
  },
  {
   "cell_type": "code",
   "execution_count": 3,
   "metadata": {},
   "outputs": [
    {
     "name": "stdout",
     "output_type": "stream",
     "text": [
      "self.metaconf:  meta\n",
      "metadata already created.\n",
      "False\n",
      "self.meta                                  VARIABLE     TYPE         STATUS\n",
      "0                      Rotor_angle_degree  NUMERIC           KEEP\n",
      "1                 Blade1_act_val_B_degree  NUMERIC           KEEP\n",
      "2                 Blade1_act_val_A_degree  NUMERIC           KEEP\n",
      "3                   Blade1_set_val_degree  NUMERIC           KEEP\n",
      "4                 Blade2_act_val_B_degree  NUMERIC           KEEP\n",
      "5                 Blade2_act_val_A_degree  NUMERIC           KEEP\n",
      "6                   Blade2_set_val_degree  NUMERIC           KEEP\n",
      "7                 Blade3_act_val_B_degree  NUMERIC           KEEP\n",
      "8                 Blade3_act_val_A_degree  NUMERIC           KEEP\n",
      "9                   Blade3_set_val_degree  NUMERIC           KEEP\n",
      "10                  BuddyYawOffset_degree  NUMERIC  DROP_all_same\n",
      "11                          CCU_current_A  NUMERIC           KEEP\n",
      "12                           CCU_power_kW  NUMERIC           KEEP\n",
      "13                CCU_reactive_power_kVAr  NUMERIC           KEEP\n",
      "14                          CCU_voltage_V  NUMERIC           KEEP\n",
      "15             CCU_Circuit_breaker_cutins  NUMERIC           KEEP\n",
      "16                        CCU_current_A_A  NUMERIC           KEEP\n",
      "17                        CCU_current_B_A  NUMERIC           KEEP\n",
      "18                        CCU_current_C_A  NUMERIC           KEEP\n",
      "19           Drip_loop_power_cable_temp_1  NUMERIC           KEEP\n",
      "20           Drip_loop_power_cable_temp_2  NUMERIC           KEEP\n",
      "21                  Drive_train_acc_mm_s2  NUMERIC           KEEP\n",
      "22                     Generator_temp_3_C  NUMERIC           KEEP\n",
      "23                CCU_Generator_speed_rpm  NUMERIC           KEEP\n",
      "24                          Generator_rpm  NUMERIC           KEEP\n",
      "25              Hydraulic_prepressure_bar  NUMERIC           KEEP\n",
      "26                           Line_freq_Hz  NUMERIC           KEEP\n",
      "27                  Mainframe_acc_lateral  NUMERIC           KEEP\n",
      "28                 Mainframe_acc_vertical  NUMERIC           KEEP\n",
      "29                         Mom_D_filtered  NUMERIC           KEEP\n",
      "30                         Mom_Q_filtered  NUMERIC           KEEP\n",
      "31                        Mom_D_direction  NUMERIC           KEEP\n",
      "32                        Mom_Q_direction  NUMERIC           KEEP\n",
      "33                       Nacelle_Position  NUMERIC           KEEP\n",
      "34                            Nacelle_rev  NUMERIC           KEEP\n",
      "35                          Nacelle_rev.1  NUMERIC           KEEP\n",
      "36                        Operating_state  NUMERIC           KEEP\n",
      "37                      Operating_state_1  NUMERIC           KEEP\n",
      "38                       Particle_counter  NUMERIC  DROP_all_same\n",
      "39                     Particle_counter_1  NUMERIC  DROP_all_same\n",
      "40                 Pitch_offset_1_ALC_deg  NUMERIC           KEEP\n",
      "41               Pitch_offset_1_ALC_deg_1  NUMERIC           KEEP\n",
      "42                 Pitch_offset_2_ALC_deg  NUMERIC           KEEP\n",
      "43               Pitch_offset_2_ALC_deg_1  NUMERIC           KEEP\n",
      "44                 Pitch_offset_3_ALC_deg  NUMERIC           KEEP\n",
      "45               Pitch_offset_3_ALC_deg_1  NUMERIC           KEEP\n",
      "46              Pitch_demand_baseline_def  NUMERIC           KEEP\n",
      "47            Pitch_demand_baseline_def_1  NUMERIC           KEEP\n",
      "48            Pitch_offset_tower_feedback  NUMERIC           KEEP\n",
      "49          Pitch_offset_tower_feedback_1  NUMERIC           KEEP\n",
      "50                               Power_kW  NUMERIC           KEEP\n",
      "51                             Power_kW_1  NUMERIC           KEEP\n",
      "52                           Power_factor  NUMERIC           KEEP\n",
      "53                 Power_factor_set_value  NUMERIC  DROP_all_same\n",
      "54                      Prox_sensor135_mm  NUMERIC           KEEP\n",
      "55                      Prox_sensor225_mm  NUMERIC           KEEP\n",
      "56                      Prox_sensor315_mm  NUMERIC           KEEP\n",
      "57                       Prox_sensor45_mm  NUMERIC           KEEP\n",
      "58                    Reactive_power_kVar  NUMERIC           KEEP\n",
      "59                    Rotor_lock_position  NUMERIC  DROP_all_same\n",
      "60                              Rotor_rpm  NUMERIC           KEEP\n",
      "61                             Scope_CH_1  NUMERIC  DROP_all_same\n",
      "62                             Scope_CH_2  NUMERIC  DROP_all_same\n",
      "63                             Scope_CH_3  NUMERIC  DROP_all_same\n",
      "64                             Scope_CH_4  NUMERIC           KEEP\n",
      "65                            State_Fault  NUMERIC           KEEP\n",
      "66                       GBX_Distr_temp_C  NUMERIC           KEEP\n",
      "67                         GBX_OIL_temp_C  NUMERIC           KEEP\n",
      "68                        GBX_OIL1_temp_C  NUMERIC           KEEP\n",
      "69                        GBX_OIL2_temp_C  NUMERIC           KEEP\n",
      "70                      GBX_T1_HSS_temp_C  NUMERIC           KEEP\n",
      "71                      GBX_T1_IMS_temp_C  NUMERIC           KEEP\n",
      "72                      GBX_T3_HSS_temp_C  NUMERIC           KEEP\n",
      "73                      GBX_T3_IMS_temp_C  NUMERIC           KEEP\n",
      "74                         Ambient_temp_C  NUMERIC           KEEP\n",
      "75                        Temp_Axis_box_1  NUMERIC           KEEP\n",
      "76                        Temp_Axis_box_2  NUMERIC           KEEP\n",
      "77                        Temp_Axis_box_3  NUMERIC           KEEP\n",
      "78        GBX_bearing_hollow_shaft_temp_C  NUMERIC           KEEP\n",
      "79                     Temp_Heat_Exch_CCU  NUMERIC           KEEP\n",
      "80                           Temp_Nacelle  NUMERIC           KEEP\n",
      "81                           Temp_Trafo_1  NUMERIC           KEEP\n",
      "82                           Temp_Trafo_2  NUMERIC           KEEP\n",
      "83                           Temp_Trafo_3  NUMERIC           KEEP\n",
      "84                     Temp_battery_box_1  NUMERIC           KEEP\n",
      "85                     Temp_battery_box_2  NUMERIC           KEEP\n",
      "86                     Temp_battery_box_3  NUMERIC           KEEP\n",
      "87                         Temp_bearing_A  NUMERIC           KEEP\n",
      "88                         Temp_bearing_B  NUMERIC           KEEP\n",
      "89                  gearboxbearing_temp_C  NUMERIC           KEEP\n",
      "90                       Temp_generator_1  NUMERIC           KEEP\n",
      "91                       Temp_generator_2  NUMERIC           KEEP\n",
      "92                Temp_generator_cool_air  NUMERIC           KEEP\n",
      "93                  Shaft_bearing1_temp_C  NUMERIC           KEEP\n",
      "94                  Shaft_bearing2_temp_C  NUMERIC           KEEP\n",
      "95                      Tower_base_temp_C  NUMERIC           KEEP\n",
      "96                       Temp_2nd_Outside  NUMERIC  DROP_all_same\n",
      "97                       Temp_MCC_cabinet  NUMERIC  DROP_all_same\n",
      "98                         Temp_slip_ring  NUMERIC  DROP_all_same\n",
      "99                           Temp_top_box  NUMERIC  DROP_all_same\n",
      "100                    Torque_act_Percent  NUMERIC           KEEP\n",
      "101                    Torque_set_Percent  NUMERIC           KEEP\n",
      "102       Torque_Offset_tower_feedback_Nm  NUMERIC           KEEP\n",
      "103           Tower_acc_lateral_raw_mm_s2  NUMERIC           KEEP\n",
      "104            Tower_acc_normal_raw_mm_s2  NUMERIC           KEEP\n",
      "105                      Tower_acc_normal  NUMERIC           KEEP\n",
      "106                     Tower_acc_lateral  NUMERIC           KEEP\n",
      "107                   Tower_deflection_ms  NUMERIC  DROP_all_same\n",
      "108                         Turbine_State  NUMERIC           KEEP\n",
      "109                           Voltage_A_N  NUMERIC           KEEP\n",
      "110                           Voltage_B_N  NUMERIC           KEEP\n",
      "111                           Voltage_C_N  NUMERIC           KEEP\n",
      "112                        Wind_dev_1_sec  NUMERIC           KEEP\n",
      "113                       Wind_dev_10_sec  NUMERIC           KEEP\n",
      "114                      Wind_dev_2_1_sec  NUMERIC  DROP_all_same\n",
      "115                     Wind_dev_2_10_sec  NUMERIC  DROP_all_same\n",
      "116                        Wind_speed_m_s  NUMERIC           KEEP\n",
      "117                         Windspeed_m_s  NUMERIC           KEEP\n",
      "118                       Windspeed_a_m_s  NUMERIC  DROP_all_same\n",
      "119                            nset_1_rpm  NUMERIC           KEEP\n",
      "120                          nset_1_rpm_1  NUMERIC           KEEP\n",
      "121                            nset_2_rpm  NUMERIC           KEEP\n",
      "122                          nset_2_rpm_1  NUMERIC           KEEP\n",
      "123               Rotor_angle_degree_norm  NUMERIC           KEEP\n",
      "124          Blade1_act_val_B_degree_norm  NUMERIC           KEEP\n",
      "125          Blade1_act_val_A_degree_norm  NUMERIC           KEEP\n",
      "126            Blade1_set_val_degree_norm  NUMERIC           KEEP\n",
      "127          Blade2_act_val_B_degree_norm  NUMERIC           KEEP\n",
      "128          Blade2_act_val_A_degree_norm  NUMERIC           KEEP\n",
      "129            Blade2_set_val_degree_norm  NUMERIC           KEEP\n",
      "130          Blade3_act_val_B_degree_norm  NUMERIC           KEEP\n",
      "131          Blade3_act_val_A_degree_norm  NUMERIC           KEEP\n",
      "132            Blade3_set_val_degree_norm  NUMERIC           KEEP\n",
      "133            BuddyYawOffset_degree_norm  NUMERIC  DROP_all_same\n",
      "134                    CCU_current_A_norm  NUMERIC           KEEP\n",
      "135                     CCU_power_kW_norm  NUMERIC           KEEP\n",
      "136          CCU_reactive_power_kVAr_norm  NUMERIC           KEEP\n",
      "137                    CCU_voltage_V_norm  NUMERIC           KEEP\n",
      "138       CCU_Circuit_breaker_cutins_norm  NUMERIC           KEEP\n",
      "139                  CCU_current_A_A_norm  NUMERIC           KEEP\n",
      "140                  CCU_current_B_A_norm  NUMERIC           KEEP\n",
      "141                  CCU_current_C_A_norm  NUMERIC           KEEP\n",
      "142     Drip_loop_power_cable_temp_1_norm  NUMERIC           KEEP\n",
      "143     Drip_loop_power_cable_temp_2_norm  NUMERIC           KEEP\n",
      "144            Drive_train_acc_mm_s2_norm  NUMERIC           KEEP\n",
      "145               Generator_temp_3_C_norm  NUMERIC           KEEP\n",
      "146          CCU_Generator_speed_rpm_norm  NUMERIC           KEEP\n",
      "147                    Generator_rpm_norm  NUMERIC           KEEP\n",
      "148        Hydraulic_prepressure_bar_norm  NUMERIC           KEEP\n",
      "149                     Line_freq_Hz_norm  NUMERIC           KEEP\n",
      "150            Mainframe_acc_lateral_norm  NUMERIC           KEEP\n",
      "151           Mainframe_acc_vertical_norm  NUMERIC           KEEP\n",
      "152                   Mom_D_filtered_norm  NUMERIC           KEEP\n",
      "153                   Mom_Q_filtered_norm  NUMERIC           KEEP\n",
      "154                  Mom_D_direction_norm  NUMERIC           KEEP\n",
      "155                  Mom_Q_direction_norm  NUMERIC           KEEP\n",
      "156                 Nacelle_Position_norm  NUMERIC           KEEP\n",
      "157                      Nacelle_rev_norm  NUMERIC           KEEP\n",
      "158                    Nacelle_rev.1_norm  NUMERIC           KEEP\n",
      "159                  Operating_state_norm  NUMERIC           KEEP\n",
      "160                Operating_state_1_norm  NUMERIC           KEEP\n",
      "161                 Particle_counter_norm  NUMERIC        DROP_na\n",
      "162               Particle_counter_1_norm  NUMERIC        DROP_na\n",
      "163           Pitch_offset_1_ALC_deg_norm  NUMERIC           KEEP\n",
      "164         Pitch_offset_1_ALC_deg_1_norm  NUMERIC           KEEP\n",
      "165           Pitch_offset_2_ALC_deg_norm  NUMERIC           KEEP\n",
      "166         Pitch_offset_2_ALC_deg_1_norm  NUMERIC           KEEP\n",
      "167           Pitch_offset_3_ALC_deg_norm  NUMERIC           KEEP\n",
      "168         Pitch_offset_3_ALC_deg_1_norm  NUMERIC           KEEP\n",
      "169        Pitch_demand_baseline_def_norm  NUMERIC           KEEP\n",
      "170      Pitch_demand_baseline_def_1_norm  NUMERIC           KEEP\n",
      "171      Pitch_offset_tower_feedback_norm  NUMERIC           KEEP\n",
      "172    Pitch_offset_tower_feedback_1_norm  NUMERIC           KEEP\n",
      "173                         Power_kW_norm  NUMERIC           KEEP\n",
      "174                       Power_kW_1_norm  NUMERIC           KEEP\n",
      "175                     Power_factor_norm  NUMERIC           KEEP\n",
      "176           Power_factor_set_value_norm  NUMERIC        DROP_na\n",
      "177                Prox_sensor135_mm_norm  NUMERIC           KEEP\n",
      "178                Prox_sensor225_mm_norm  NUMERIC           KEEP\n",
      "179                Prox_sensor315_mm_norm  NUMERIC           KEEP\n",
      "180                 Prox_sensor45_mm_norm  NUMERIC           KEEP\n",
      "181              Reactive_power_kVar_norm  NUMERIC           KEEP\n",
      "182              Rotor_lock_position_norm  NUMERIC        DROP_na\n",
      "183                        Rotor_rpm_norm  NUMERIC           KEEP\n",
      "184                       Scope_CH_1_norm  NUMERIC        DROP_na\n",
      "185                       Scope_CH_2_norm  NUMERIC        DROP_na\n",
      "186                       Scope_CH_3_norm  NUMERIC        DROP_na\n",
      "187                       Scope_CH_4_norm  NUMERIC           KEEP\n",
      "188                      State_Fault_norm  NUMERIC           KEEP\n",
      "189                 GBX_Distr_temp_C_norm  NUMERIC           KEEP\n",
      "190                   GBX_OIL_temp_C_norm  NUMERIC           KEEP\n",
      "191                  GBX_OIL1_temp_C_norm  NUMERIC           KEEP\n",
      "192                  GBX_OIL2_temp_C_norm  NUMERIC           KEEP\n",
      "193                GBX_T1_HSS_temp_C_norm  NUMERIC           KEEP\n",
      "194                GBX_T1_IMS_temp_C_norm  NUMERIC           KEEP\n",
      "195                GBX_T3_HSS_temp_C_norm  NUMERIC           KEEP\n",
      "196                GBX_T3_IMS_temp_C_norm  NUMERIC           KEEP\n",
      "197                   Ambient_temp_C_norm  NUMERIC           KEEP\n",
      "198                  Temp_Axis_box_1_norm  NUMERIC           KEEP\n",
      "199                  Temp_Axis_box_2_norm  NUMERIC           KEEP\n",
      "200                  Temp_Axis_box_3_norm  NUMERIC           KEEP\n",
      "201  GBX_bearing_hollow_shaft_temp_C_norm  NUMERIC           KEEP\n",
      "202               Temp_Heat_Exch_CCU_norm  NUMERIC           KEEP\n",
      "203                     Temp_Nacelle_norm  NUMERIC           KEEP\n",
      "204                     Temp_Trafo_1_norm  NUMERIC           KEEP\n",
      "205                     Temp_Trafo_2_norm  NUMERIC           KEEP\n",
      "206                     Temp_Trafo_3_norm  NUMERIC           KEEP\n",
      "207               Temp_battery_box_1_norm  NUMERIC           KEEP\n",
      "208               Temp_battery_box_2_norm  NUMERIC           KEEP\n",
      "209               Temp_battery_box_3_norm  NUMERIC           KEEP\n",
      "210                   Temp_bearing_A_norm  NUMERIC           KEEP\n",
      "211                   Temp_bearing_B_norm  NUMERIC           KEEP\n",
      "212            gearboxbearing_temp_C_norm  NUMERIC           KEEP\n",
      "213                 Temp_generator_1_norm  NUMERIC           KEEP\n",
      "214                 Temp_generator_2_norm  NUMERIC           KEEP\n",
      "215          Temp_generator_cool_air_norm  NUMERIC           KEEP\n",
      "216            Shaft_bearing1_temp_C_norm  NUMERIC           KEEP\n",
      "217            Shaft_bearing2_temp_C_norm  NUMERIC           KEEP\n",
      "218                Tower_base_temp_C_norm  NUMERIC           KEEP\n",
      "219                 Temp_2nd_Outside_norm  NUMERIC        DROP_na\n",
      "220                 Temp_MCC_cabinet_norm  NUMERIC        DROP_na\n",
      "221                   Temp_slip_ring_norm  NUMERIC        DROP_na\n",
      "222                     Temp_top_box_norm  NUMERIC        DROP_na\n",
      "223               Torque_act_Percent_norm  NUMERIC           KEEP\n",
      "224               Torque_set_Percent_norm  NUMERIC           KEEP\n",
      "225  Torque_Offset_tower_feedback_Nm_norm  NUMERIC           KEEP\n",
      "226      Tower_acc_lateral_raw_mm_s2_norm  NUMERIC           KEEP\n",
      "227       Tower_acc_normal_raw_mm_s2_norm  NUMERIC           KEEP\n",
      "228                 Tower_acc_normal_norm  NUMERIC           KEEP\n",
      "229                Tower_acc_lateral_norm  NUMERIC           KEEP\n",
      "230              Tower_deflection_ms_norm  NUMERIC        DROP_na\n",
      "231                    Turbine_State_norm  NUMERIC           KEEP\n",
      "232                      Voltage_A_N_norm  NUMERIC           KEEP\n",
      "233                      Voltage_B_N_norm  NUMERIC           KEEP\n",
      "234                      Voltage_C_N_norm  NUMERIC           KEEP\n",
      "235                   Wind_dev_1_sec_norm  NUMERIC           KEEP\n",
      "236                  Wind_dev_10_sec_norm  NUMERIC           KEEP\n",
      "237                 Wind_dev_2_1_sec_norm  NUMERIC        DROP_na\n",
      "238                Wind_dev_2_10_sec_norm  NUMERIC        DROP_na\n",
      "239                   Wind_speed_m_s_norm  NUMERIC           KEEP\n",
      "240                    Windspeed_m_s_norm  NUMERIC           KEEP\n",
      "241                  Windspeed_a_m_s_norm  NUMERIC        DROP_na\n",
      "242                       nset_1_rpm_norm  NUMERIC           KEEP\n",
      "243                     nset_1_rpm_1_norm  NUMERIC           KEEP\n",
      "244                       nset_2_rpm_norm  NUMERIC           KEEP\n",
      "245                     nset_2_rpm_1_norm  NUMERIC           KEEP\n"
     ]
    },
    {
     "ename": "ValueError",
     "evalue": "Input contains NaN, infinity or a value too large for dtype('float64').",
     "output_type": "error",
     "traceback": [
      "\u001b[1;31m---------------------------------------------------------------------------\u001b[0m",
      "\u001b[1;31mValueError\u001b[0m                                Traceback (most recent call last)",
      "\u001b[1;32m<ipython-input-3-81b513e90c0e>\u001b[0m in \u001b[0;36m<module>\u001b[1;34m\u001b[0m\n\u001b[0;32m      1\u001b[0m \u001b[1;31m#Feature Selection with Hybrid method\u001b[0m\u001b[1;33m\u001b[0m\u001b[1;33m\u001b[0m\u001b[1;33m\u001b[0m\u001b[0m\n\u001b[1;32m----> 2\u001b[1;33m \u001b[0mHybrid\u001b[0m\u001b[1;33m(\u001b[0m\u001b[1;33m)\u001b[0m\u001b[1;33m.\u001b[0m\u001b[0mfeatureSelection\u001b[0m\u001b[1;33m(\u001b[0m\u001b[1;33m)\u001b[0m\u001b[1;33m\u001b[0m\u001b[1;33m\u001b[0m\u001b[0m\n\u001b[0m",
      "\u001b[1;32m~\\Documents\\Git\\Diagnostic_2020_New_Model\\src\\featureProcessing\\Feature_Selection\\Base.py\u001b[0m in \u001b[0;36mfeatureSelection\u001b[1;34m(self)\u001b[0m\n\u001b[0;32m     78\u001b[0m             \u001b[0mself\u001b[0m\u001b[1;33m.\u001b[0m\u001b[0mlogger\u001b[0m\u001b[1;33m.\u001b[0m\u001b[0mwarning\u001b[0m\u001b[1;33m(\u001b[0m\u001b[1;34m'selectedfeatures %s'\u001b[0m \u001b[1;33m%\u001b[0m\u001b[0mselectedfeatures\u001b[0m\u001b[1;33m)\u001b[0m\u001b[1;33m\u001b[0m\u001b[1;33m\u001b[0m\u001b[0m\n\u001b[0;32m     79\u001b[0m         \u001b[1;32melif\u001b[0m \u001b[0mself\u001b[0m\u001b[1;33m.\u001b[0m\u001b[0mprecondition\u001b[0m\u001b[1;33m==\u001b[0m\u001b[1;34m'Both_train_valid'\u001b[0m\u001b[1;33m:\u001b[0m\u001b[1;33m\u001b[0m\u001b[1;33m\u001b[0m\u001b[0m\n\u001b[1;32m---> 80\u001b[1;33m             \u001b[0mselectedfeatures\u001b[0m\u001b[1;33m,\u001b[0m\u001b[0mmeta\u001b[0m\u001b[1;33m=\u001b[0m\u001b[0mself\u001b[0m\u001b[1;33m.\u001b[0m\u001b[0mfilter_feature_selection\u001b[0m\u001b[1;33m(\u001b[0m\u001b[0mX_train\u001b[0m\u001b[1;33m,\u001b[0m \u001b[0mX_valid\u001b[0m\u001b[1;33m,\u001b[0m \u001b[0my_train\u001b[0m\u001b[1;33m,\u001b[0m \u001b[0my_valid\u001b[0m\u001b[1;33m)\u001b[0m\u001b[1;33m\u001b[0m\u001b[1;33m\u001b[0m\u001b[0m\n\u001b[0m\u001b[0;32m     81\u001b[0m             \u001b[0mself\u001b[0m\u001b[1;33m.\u001b[0m\u001b[0mlogger\u001b[0m\u001b[1;33m.\u001b[0m\u001b[0mwarning\u001b[0m\u001b[1;33m(\u001b[0m\u001b[1;34m'selectedfeatures %s'\u001b[0m \u001b[1;33m%\u001b[0m\u001b[0mselectedfeatures\u001b[0m\u001b[1;33m)\u001b[0m\u001b[1;33m\u001b[0m\u001b[1;33m\u001b[0m\u001b[0m\n\u001b[0;32m     82\u001b[0m         \u001b[1;31m#mean_inc_threshold=sum(np.array(f1_train_all[1:30])-np.array(f1_train_all[0:29]))/len(np.array(f1_train_all[1:30])-np.array(f1_train_all[0:29]))\u001b[0m\u001b[1;33m\u001b[0m\u001b[1;33m\u001b[0m\u001b[1;33m\u001b[0m\u001b[0m\n",
      "\u001b[1;32m~\\Documents\\Git\\Diagnostic_2020_New_Model\\src\\featureProcessing\\Feature_Selection\\Hybrid.py\u001b[0m in \u001b[0;36mfilter_feature_selection\u001b[1;34m(self, X_train, X_valid, y_train, y_valid)\u001b[0m\n\u001b[0;32m     61\u001b[0m             \u001b[0mprint\u001b[0m\u001b[1;33m(\u001b[0m\u001b[1;34m'self.meta'\u001b[0m\u001b[1;33m,\u001b[0m\u001b[0mself\u001b[0m\u001b[1;33m.\u001b[0m\u001b[0mmeta\u001b[0m\u001b[1;33m)\u001b[0m\u001b[1;33m\u001b[0m\u001b[1;33m\u001b[0m\u001b[0m\n\u001b[0;32m     62\u001b[0m             \u001b[1;32mfor\u001b[0m \u001b[0mk\u001b[0m \u001b[1;32min\u001b[0m \u001b[0mrange\u001b[0m\u001b[1;33m(\u001b[0m\u001b[1;36m1\u001b[0m\u001b[1;33m,\u001b[0m\u001b[0mX_train\u001b[0m\u001b[1;33m.\u001b[0m\u001b[0mshape\u001b[0m\u001b[1;33m[\u001b[0m\u001b[1;36m1\u001b[0m\u001b[1;33m]\u001b[0m\u001b[1;33m)\u001b[0m\u001b[1;33m:\u001b[0m\u001b[1;33m\u001b[0m\u001b[1;33m\u001b[0m\u001b[0m\n\u001b[1;32m---> 63\u001b[1;33m                 \u001b[0mColumn_Names\u001b[0m \u001b[1;33m=\u001b[0m \u001b[0mself\u001b[0m\u001b[1;33m.\u001b[0m\u001b[0mfiltering\u001b[0m\u001b[1;33m(\u001b[0m\u001b[0mX_train\u001b[0m\u001b[1;33m,\u001b[0m\u001b[0my_train\u001b[0m\u001b[1;33m,\u001b[0m\u001b[0mself\u001b[0m\u001b[1;33m.\u001b[0m\u001b[0mmethod\u001b[0m\u001b[1;33m,\u001b[0m\u001b[0mk\u001b[0m\u001b[1;33m)\u001b[0m\u001b[1;33m\u001b[0m\u001b[1;33m\u001b[0m\u001b[0m\n\u001b[0m\u001b[0;32m     64\u001b[0m                 \u001b[0mf1_train\u001b[0m\u001b[1;33m,\u001b[0m \u001b[0mf1_valid\u001b[0m \u001b[1;33m=\u001b[0m \u001b[0mself\u001b[0m\u001b[1;33m.\u001b[0m\u001b[0mtrain_\u001b[0m\u001b[1;33m(\u001b[0m\u001b[0mX_train\u001b[0m\u001b[1;33m[\u001b[0m\u001b[0mX_train\u001b[0m\u001b[1;33m.\u001b[0m\u001b[0mcolumns\u001b[0m\u001b[1;33m[\u001b[0m\u001b[0mColumn_Names\u001b[0m\u001b[1;33m]\u001b[0m\u001b[1;33m]\u001b[0m\u001b[1;33m,\u001b[0m \u001b[0my_train\u001b[0m\u001b[1;33m,\u001b[0m \u001b[0mX_valid\u001b[0m\u001b[1;33m[\u001b[0m\u001b[0mX_valid\u001b[0m\u001b[1;33m.\u001b[0m\u001b[0mcolumns\u001b[0m\u001b[1;33m[\u001b[0m\u001b[0mColumn_Names\u001b[0m\u001b[1;33m]\u001b[0m\u001b[1;33m]\u001b[0m\u001b[1;33m,\u001b[0m \u001b[0my_valid\u001b[0m\u001b[1;33m,\u001b[0m \u001b[0mself\u001b[0m\u001b[1;33m.\u001b[0m\u001b[0mmodel\u001b[0m\u001b[1;33m,\u001b[0m\u001b[0mself\u001b[0m\u001b[1;33m.\u001b[0m\u001b[0mrand\u001b[0m\u001b[1;33m,\u001b[0m\u001b[0mself\u001b[0m\u001b[1;33m.\u001b[0m\u001b[0maverage\u001b[0m\u001b[1;33m)\u001b[0m\u001b[1;33m\u001b[0m\u001b[1;33m\u001b[0m\u001b[0m\n\u001b[0;32m     65\u001b[0m                 \u001b[0mf1_train_all\u001b[0m\u001b[1;33m.\u001b[0m\u001b[0mappend\u001b[0m\u001b[1;33m(\u001b[0m\u001b[0mf1_train\u001b[0m\u001b[1;33m)\u001b[0m\u001b[1;33m\u001b[0m\u001b[1;33m\u001b[0m\u001b[0m\n",
      "\u001b[1;32m~\\Documents\\Git\\Diagnostic_2020_New_Model\\src\\featureProcessing\\Feature_Selection\\Base.py\u001b[0m in \u001b[0;36mfiltering\u001b[1;34m(X, y, method, nf)\u001b[0m\n\u001b[0;32m    153\u001b[0m     \u001b[1;33m@\u001b[0m\u001b[0mstaticmethod\u001b[0m\u001b[1;33m\u001b[0m\u001b[1;33m\u001b[0m\u001b[0m\n\u001b[0;32m    154\u001b[0m     \u001b[1;32mdef\u001b[0m \u001b[0mfiltering\u001b[0m\u001b[1;33m(\u001b[0m\u001b[0mX\u001b[0m\u001b[1;33m,\u001b[0m\u001b[0my\u001b[0m\u001b[1;33m,\u001b[0m\u001b[0mmethod\u001b[0m\u001b[1;33m,\u001b[0m\u001b[0mnf\u001b[0m\u001b[1;33m)\u001b[0m\u001b[1;33m:\u001b[0m\u001b[1;33m\u001b[0m\u001b[1;33m\u001b[0m\u001b[0m\n\u001b[1;32m--> 155\u001b[1;33m         \u001b[0mSelector\u001b[0m \u001b[1;33m=\u001b[0m \u001b[0mSelectKBest\u001b[0m\u001b[1;33m(\u001b[0m\u001b[0mmethod\u001b[0m\u001b[1;33m,\u001b[0m \u001b[0mk\u001b[0m\u001b[1;33m=\u001b[0m\u001b[0mnf\u001b[0m\u001b[1;33m)\u001b[0m\u001b[1;33m.\u001b[0m\u001b[0mfit\u001b[0m\u001b[1;33m(\u001b[0m\u001b[0mX\u001b[0m\u001b[1;33m,\u001b[0m \u001b[0my\u001b[0m\u001b[1;33m)\u001b[0m\u001b[1;33m\u001b[0m\u001b[1;33m\u001b[0m\u001b[0m\n\u001b[0m\u001b[0;32m    156\u001b[0m         \u001b[0mColumn_Names\u001b[0m \u001b[1;33m=\u001b[0m \u001b[0mSelector\u001b[0m\u001b[1;33m.\u001b[0m\u001b[0mget_support\u001b[0m\u001b[1;33m(\u001b[0m\u001b[0mindices\u001b[0m\u001b[1;33m=\u001b[0m\u001b[1;32mTrue\u001b[0m\u001b[1;33m)\u001b[0m\u001b[1;33m\u001b[0m\u001b[1;33m\u001b[0m\u001b[0m\n\u001b[0;32m    157\u001b[0m         \u001b[1;32mreturn\u001b[0m \u001b[0mColumn_Names\u001b[0m\u001b[1;33m\u001b[0m\u001b[1;33m\u001b[0m\u001b[0m\n",
      "\u001b[1;32m~\\AppData\\Local\\Continuum\\anaconda3\\lib\\site-packages\\sklearn\\feature_selection\\univariate_selection.py\u001b[0m in \u001b[0;36mfit\u001b[1;34m(self, X, y)\u001b[0m\n\u001b[0;32m    339\u001b[0m         \u001b[0mself\u001b[0m \u001b[1;33m:\u001b[0m \u001b[0mobject\u001b[0m\u001b[1;33m\u001b[0m\u001b[1;33m\u001b[0m\u001b[0m\n\u001b[0;32m    340\u001b[0m         \"\"\"\n\u001b[1;32m--> 341\u001b[1;33m         \u001b[0mX\u001b[0m\u001b[1;33m,\u001b[0m \u001b[0my\u001b[0m \u001b[1;33m=\u001b[0m \u001b[0mcheck_X_y\u001b[0m\u001b[1;33m(\u001b[0m\u001b[0mX\u001b[0m\u001b[1;33m,\u001b[0m \u001b[0my\u001b[0m\u001b[1;33m,\u001b[0m \u001b[1;33m[\u001b[0m\u001b[1;34m'csr'\u001b[0m\u001b[1;33m,\u001b[0m \u001b[1;34m'csc'\u001b[0m\u001b[1;33m]\u001b[0m\u001b[1;33m,\u001b[0m \u001b[0mmulti_output\u001b[0m\u001b[1;33m=\u001b[0m\u001b[1;32mTrue\u001b[0m\u001b[1;33m)\u001b[0m\u001b[1;33m\u001b[0m\u001b[1;33m\u001b[0m\u001b[0m\n\u001b[0m\u001b[0;32m    342\u001b[0m \u001b[1;33m\u001b[0m\u001b[0m\n\u001b[0;32m    343\u001b[0m         \u001b[1;32mif\u001b[0m \u001b[1;32mnot\u001b[0m \u001b[0mcallable\u001b[0m\u001b[1;33m(\u001b[0m\u001b[0mself\u001b[0m\u001b[1;33m.\u001b[0m\u001b[0mscore_func\u001b[0m\u001b[1;33m)\u001b[0m\u001b[1;33m:\u001b[0m\u001b[1;33m\u001b[0m\u001b[1;33m\u001b[0m\u001b[0m\n",
      "\u001b[1;32m~\\AppData\\Local\\Continuum\\anaconda3\\lib\\site-packages\\sklearn\\utils\\validation.py\u001b[0m in \u001b[0;36mcheck_X_y\u001b[1;34m(X, y, accept_sparse, accept_large_sparse, dtype, order, copy, force_all_finite, ensure_2d, allow_nd, multi_output, ensure_min_samples, ensure_min_features, y_numeric, warn_on_dtype, estimator)\u001b[0m\n\u001b[0;32m    717\u001b[0m                     \u001b[0mensure_min_features\u001b[0m\u001b[1;33m=\u001b[0m\u001b[0mensure_min_features\u001b[0m\u001b[1;33m,\u001b[0m\u001b[1;33m\u001b[0m\u001b[1;33m\u001b[0m\u001b[0m\n\u001b[0;32m    718\u001b[0m                     \u001b[0mwarn_on_dtype\u001b[0m\u001b[1;33m=\u001b[0m\u001b[0mwarn_on_dtype\u001b[0m\u001b[1;33m,\u001b[0m\u001b[1;33m\u001b[0m\u001b[1;33m\u001b[0m\u001b[0m\n\u001b[1;32m--> 719\u001b[1;33m                     estimator=estimator)\n\u001b[0m\u001b[0;32m    720\u001b[0m     \u001b[1;32mif\u001b[0m \u001b[0mmulti_output\u001b[0m\u001b[1;33m:\u001b[0m\u001b[1;33m\u001b[0m\u001b[1;33m\u001b[0m\u001b[0m\n\u001b[0;32m    721\u001b[0m         y = check_array(y, 'csr', force_all_finite=True, ensure_2d=False,\n",
      "\u001b[1;32m~\\AppData\\Local\\Continuum\\anaconda3\\lib\\site-packages\\sklearn\\utils\\validation.py\u001b[0m in \u001b[0;36mcheck_array\u001b[1;34m(array, accept_sparse, accept_large_sparse, dtype, order, copy, force_all_finite, ensure_2d, allow_nd, ensure_min_samples, ensure_min_features, warn_on_dtype, estimator)\u001b[0m\n\u001b[0;32m    540\u001b[0m         \u001b[1;32mif\u001b[0m \u001b[0mforce_all_finite\u001b[0m\u001b[1;33m:\u001b[0m\u001b[1;33m\u001b[0m\u001b[1;33m\u001b[0m\u001b[0m\n\u001b[0;32m    541\u001b[0m             _assert_all_finite(array,\n\u001b[1;32m--> 542\u001b[1;33m                                allow_nan=force_all_finite == 'allow-nan')\n\u001b[0m\u001b[0;32m    543\u001b[0m \u001b[1;33m\u001b[0m\u001b[0m\n\u001b[0;32m    544\u001b[0m     \u001b[1;32mif\u001b[0m \u001b[0mensure_min_samples\u001b[0m \u001b[1;33m>\u001b[0m \u001b[1;36m0\u001b[0m\u001b[1;33m:\u001b[0m\u001b[1;33m\u001b[0m\u001b[1;33m\u001b[0m\u001b[0m\n",
      "\u001b[1;32m~\\AppData\\Local\\Continuum\\anaconda3\\lib\\site-packages\\sklearn\\utils\\validation.py\u001b[0m in \u001b[0;36m_assert_all_finite\u001b[1;34m(X, allow_nan)\u001b[0m\n\u001b[0;32m     54\u001b[0m                 not allow_nan and not np.isfinite(X).all()):\n\u001b[0;32m     55\u001b[0m             \u001b[0mtype_err\u001b[0m \u001b[1;33m=\u001b[0m \u001b[1;34m'infinity'\u001b[0m \u001b[1;32mif\u001b[0m \u001b[0mallow_nan\u001b[0m \u001b[1;32melse\u001b[0m \u001b[1;34m'NaN, infinity'\u001b[0m\u001b[1;33m\u001b[0m\u001b[1;33m\u001b[0m\u001b[0m\n\u001b[1;32m---> 56\u001b[1;33m             \u001b[1;32mraise\u001b[0m \u001b[0mValueError\u001b[0m\u001b[1;33m(\u001b[0m\u001b[0mmsg_err\u001b[0m\u001b[1;33m.\u001b[0m\u001b[0mformat\u001b[0m\u001b[1;33m(\u001b[0m\u001b[0mtype_err\u001b[0m\u001b[1;33m,\u001b[0m \u001b[0mX\u001b[0m\u001b[1;33m.\u001b[0m\u001b[0mdtype\u001b[0m\u001b[1;33m)\u001b[0m\u001b[1;33m)\u001b[0m\u001b[1;33m\u001b[0m\u001b[1;33m\u001b[0m\u001b[0m\n\u001b[0m\u001b[0;32m     57\u001b[0m     \u001b[1;31m# for object dtype data, we only check for NaNs (GH-13254)\u001b[0m\u001b[1;33m\u001b[0m\u001b[1;33m\u001b[0m\u001b[1;33m\u001b[0m\u001b[0m\n\u001b[0;32m     58\u001b[0m     \u001b[1;32melif\u001b[0m \u001b[0mX\u001b[0m\u001b[1;33m.\u001b[0m\u001b[0mdtype\u001b[0m \u001b[1;33m==\u001b[0m \u001b[0mnp\u001b[0m\u001b[1;33m.\u001b[0m\u001b[0mdtype\u001b[0m\u001b[1;33m(\u001b[0m\u001b[1;34m'object'\u001b[0m\u001b[1;33m)\u001b[0m \u001b[1;32mand\u001b[0m \u001b[1;32mnot\u001b[0m \u001b[0mallow_nan\u001b[0m\u001b[1;33m:\u001b[0m\u001b[1;33m\u001b[0m\u001b[1;33m\u001b[0m\u001b[0m\n",
      "\u001b[1;31mValueError\u001b[0m: Input contains NaN, infinity or a value too large for dtype('float64')."
     ]
    }
   ],
   "source": [
    "#Feature Selection with Hybrid method\n",
    "Hybrid().featureSelection()"
   ]
  },
  {
   "cell_type": "code",
   "execution_count": null,
   "metadata": {},
   "outputs": [],
   "source": [
    "meta=Upload_Download_Pickle().download_pickle(path, 'meta')"
   ]
  },
  {
   "cell_type": "code",
   "execution_count": null,
   "metadata": {},
   "outputs": [],
   "source": [
    "meta.groupby('STATUS').count()"
   ]
  },
  {
   "cell_type": "code",
   "execution_count": null,
   "metadata": {},
   "outputs": [],
   "source": [
    "Normalize().featureExtraction()"
   ]
  },
  {
   "cell_type": "code",
   "execution_count": null,
   "metadata": {},
   "outputs": [],
   "source": [
    "X_trains_ext=Upload_Download_Pickle().download_pickle(path, 'X_trains_ext')"
   ]
  },
  {
   "cell_type": "code",
   "execution_count": null,
   "metadata": {},
   "outputs": [],
   "source": []
  },
  {
   "cell_type": "code",
   "execution_count": null,
   "metadata": {},
   "outputs": [],
   "source": [
    "X_trains_ext.dtypes"
   ]
  },
  {
   "cell_type": "code",
   "execution_count": null,
   "metadata": {},
   "outputs": [],
   "source": [
    "XGBoost_Tune().Model()"
   ]
  },
  {
   "cell_type": "code",
   "execution_count": null,
   "metadata": {},
   "outputs": [],
   "source": [
    "# Create & Predict \n",
    "XGBoost_Tune().Model()\n",
    "LightGBM_Tune().Model()\n",
    "CatBoost_Tune().Model()\n",
    "#Random_Forest_Tune().Model()\n",
    "#Voting().Model()\n",
    "#SVC_Tune().Model()"
   ]
  },
  {
   "cell_type": "code",
   "execution_count": null,
   "metadata": {},
   "outputs": [],
   "source": [
    "Random_Forest_Tune().Model()"
   ]
  },
  {
   "cell_type": "code",
   "execution_count": null,
   "metadata": {},
   "outputs": [],
   "source": [
    "processed_path=Config_Paths().get_processed_path()\n",
    "selectedfeatures = Upload_Download_Pickle().download_pickle(processed_path, 'selectedfeatures')\n"
   ]
  },
  {
   "cell_type": "code",
   "execution_count": null,
   "metadata": {},
   "outputs": [],
   "source": [
    "selectedfeatures"
   ]
  },
  {
   "cell_type": "code",
   "execution_count": null,
   "metadata": {},
   "outputs": [],
   "source": [
    "# Create Model Metrics according to test sets\n",
    "XGBoost_Tune().Model_Metrics('classification')\n",
    "LightGBM_Tune().Model_Metrics('classification')\n",
    "CatBoost_Tune().Model_Metrics('classification')\n",
    "Random_Forest_Tune().Model_Metrics('classification')\n",
    "#SVC_Tune().Model_Metrics('classification')"
   ]
  },
  {
   "cell_type": "code",
   "execution_count": null,
   "metadata": {},
   "outputs": [],
   "source": [
    "# Plot Results of Grid Search\n",
    "XGBoost_Tune().grid_plot()\n",
    "LightGBM_Tune().grid_plot()\n",
    "CatBoost_Tune().grid_plot()\n",
    "Random_Forest_Tune().grid_plot()\n",
    "SVC_Tune().grid_plot()"
   ]
  },
  {
   "cell_type": "code",
   "execution_count": null,
   "metadata": {},
   "outputs": [],
   "source": []
  }
 ],
 "metadata": {
  "kernelspec": {
   "display_name": "Python 3",
   "language": "python",
   "name": "python3"
  },
  "language_info": {
   "codemirror_mode": {
    "name": "ipython",
    "version": 3
   },
   "file_extension": ".py",
   "mimetype": "text/x-python",
   "name": "python",
   "nbconvert_exporter": "python",
   "pygments_lexer": "ipython3",
   "version": "3.7.4"
  }
 },
 "nbformat": 4,
 "nbformat_minor": 4
}
