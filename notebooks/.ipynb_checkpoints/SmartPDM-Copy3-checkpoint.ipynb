{
 "cells": [
  {
   "cell_type": "code",
   "execution_count": 1,
   "metadata": {},
   "outputs": [],
   "source": [
    "import os\n",
    "import sys\n",
    "sys.path.append('..') \n",
    "import yaml\n",
    "import pandas as pd\n",
    "import numpy as np\n",
    "import pickle\n",
    "from src.utils.utils_p import YamlParser,Upload_Download_Pickle,Config_Paths,Feature_Selection_Configs,Model_Configs,Create_Labels_Configs\n",
    "from src.data.CollectData.CollectDataFromCSV import *\n",
    "from src.preprocessing.Data_Preprocessing import *\n",
    "from src.combineDatasets.Combine_Datasets import *\n",
    "from src.featureProcessing.SplitDataset.Split_Train_Test import *\n",
    "from src.featureProcessing.SplitDataset.Vertical_Split import *\n",
    "from src.featureProcessing.Feature_Selection.Basic_Elemination import *\n",
    "from src.featureProcessing.Feature_Selection.Wrapper import *\n",
    "from src.featureProcessing.Feature_Selection.Hybrid import *\n",
    "from src.featureProcessing.Feature_Extraction.Normalize import *\n",
    "from src.featureProcessing.Imputation.Basic_Imputation import *\n",
    "#from src.processing.Model import *\n",
    "from src.model.Classification.Random_Forest_Tuning import *\n",
    "from src.model.Classification.XGBoost_Tuning import *\n",
    "from src.model.Classification.LightGBM_Tuning import *\n",
    "from src.model.Classification.CatBoost_Tuning import *\n",
    "from src.model.Classification.SVC_Tuning import *\n",
    "from src.model.Classification.Voting import *\n",
    "pd.set_option('display.max_columns',None)\n",
    "pd.set_option('display.max_rows',None)"
   ]
  },
  {
   "cell_type": "code",
   "execution_count": 2,
   "metadata": {},
   "outputs": [],
   "source": [
    "path=Config_Paths().get_processed_path()\n",
    "cpath=Config_Paths().get_combineddatasets_path()\n",
    "rpath=Config_Paths().get_raw_path()\n",
    "prepath=Config_Paths().get_intermediate_path()\n"
   ]
  },
  {
   "cell_type": "code",
   "execution_count": null,
   "metadata": {},
   "outputs": [],
   "source": [
    "combined_data=pd.read_csv('merged_data_with_all_tags_2020.csv',delimiter='|',header=0)"
   ]
  },
  {
   "cell_type": "code",
   "execution_count": null,
   "metadata": {},
   "outputs": [],
   "source": [
    "#PERIOD yerine YEAR_MONTH_DAY geldi.\n",
    "LogsT02=Upload_Download_Pickle().download_pickle(prepath, 'Features_not_normalT02')\n",
    "LabelsT02=Upload_Download_Pickle().download_pickle(prepath, 'Labels_not_normalT02')\n",
    "LogsT03=Upload_Download_Pickle().download_pickle(prepath, 'Features_not_normalT03')\n",
    "LogsT52=Upload_Download_Pickle().download_pickle(prepath, 'Features_not_normalT52')\n"
   ]
  },
  {
   "cell_type": "raw",
   "metadata": {},
   "source": [
    "LabelsT02.head()"
   ]
  },
  {
   "cell_type": "code",
   "execution_count": null,
   "metadata": {},
   "outputs": [],
   "source": [
    "LogsT02.State_Fault.astype(int).unique()"
   ]
  },
  {
   "cell_type": "code",
   "execution_count": null,
   "metadata": {},
   "outputs": [],
   "source": [
    "LogsT02=pd.merge(LogsT02,LabelsT02[['Pitch systemEv_multiclass','Pitch systemEv','Period']])"
   ]
  },
  {
   "cell_type": "code",
   "execution_count": null,
   "metadata": {},
   "outputs": [],
   "source": [
    "from datetime import datetime, timedelta\n",
    "LogsT02['onedayPeriod']=LogsT02['Period'].astype('datetime64[ns]')- timedelta(days=1)\n",
    "LogsT02['fivedaysPeriod']=LogsT02['Period'].astype('datetime64[ns]')- timedelta(days=5)\n",
    "LogsT02['fiftheendaysPeriod']=LogsT02['Period'].astype('datetime64[ns]')- timedelta(days=15)\n"
   ]
  },
  {
   "cell_type": "code",
   "execution_count": null,
   "metadata": {},
   "outputs": [],
   "source": [
    "LogsT02=LogsT02.set_index('Period')\n",
    "tag=LogsT02[LogsT02['Pitch systemEv']=='EVENT_134']\n"
   ]
  },
  {
   "cell_type": "code",
   "execution_count": null,
   "metadata": {},
   "outputs": [],
   "source": [
    "for i in tag.index:\n",
    "    print(i)\n",
    "    print(tag.loc[i,'onedayPeriod'])\n",
    "    LogsT02['New_Pitch_systemEv']=np.where((LogsT02.index<=i)&(LogsT02.index>tag.loc[i,'fiftheendaysPeriod']),'EVENT_134_fifthteen',0)    \n",
    "    LogsT02['New_Pitch_systemEv']=np.where((LogsT02.index<=i)&(LogsT02.index>tag.loc[i,'fivedaysPeriod']),'EVENT_134_five',LogsT02['New_Pitch_systemEv'])  \n",
    "    LogsT02['New_Pitch_systemEv']=np.where((LogsT02.index<=i)&(LogsT02.index>tag.loc[i,'onedayPeriod']),'EVENT_134_one',LogsT02['New_Pitch_systemEv'])\n",
    "  \n",
    "    "
   ]
  },
  {
   "cell_type": "code",
   "execution_count": null,
   "metadata": {},
   "outputs": [],
   "source": [
    "LogsT02 ['New_Pitch_systemEv'].unique()"
   ]
  },
  {
   "cell_type": "code",
   "execution_count": null,
   "metadata": {},
   "outputs": [],
   "source": [
    "tag_plot=LogsT02[LogsT02['New_Pitch_systemEv']!=0]"
   ]
  },
  {
   "cell_type": "code",
   "execution_count": null,
   "metadata": {
    "scrolled": true
   },
   "outputs": [],
   "source": [
    "#CollectData from given dataset\n",
    "CollectDataFromCSV().upload_all_datasets() "
   ]
  },
  {
   "cell_type": "code",
   "execution_count": null,
   "metadata": {},
   "outputs": [],
   "source": [
    "col_22=[col.replace(\" 22 \", \" \") for col in LogsT22.columns]\n",
    "col_02=[col.replace(\" 02 \", \" \") for col in LogsT02.columns]"
   ]
  },
  {
   "cell_type": "code",
   "execution_count": null,
   "metadata": {},
   "outputs": [],
   "source": [
    "[items for items in col_02 if items not in col_22]"
   ]
  },
  {
   "cell_type": "code",
   "execution_count": null,
   "metadata": {},
   "outputs": [],
   "source": [
    "[items for items in col_22 if items not in col_02]"
   ]
  },
  {
   "cell_type": "code",
   "execution_count": null,
   "metadata": {},
   "outputs": [],
   "source": [
    "LogsT22=Upload_Download_Pickle().download_pickle(rpath, 'LogsT22')"
   ]
  },
  {
   "cell_type": "code",
   "execution_count": null,
   "metadata": {},
   "outputs": [],
   "source": [
    "FaultsT22=Upload_Download_Pickle().download_pickle(rpath, 'FaultsT22')"
   ]
  },
  {
   "cell_type": "code",
   "execution_count": null,
   "metadata": {},
   "outputs": [],
   "source": [
    "LogsT22.describe()"
   ]
  },
  {
   "cell_type": "code",
   "execution_count": null,
   "metadata": {},
   "outputs": [],
   "source": [
    "# Duration'ı saat'e çevir onu al!\n",
    "FaultsT22['Duration (hh:mm:ss)'].dtypes"
   ]
  },
  {
   "cell_type": "code",
   "execution_count": null,
   "metadata": {},
   "outputs": [],
   "source": [
    "# Hata ne sıklıkla geliyor bunu al!!\n",
    "Fault_count=FaultsT22[['Event ID','Category','Description','Lost Production (kWh)']].groupby(['Event ID','Category','Description']).count()\n",
    "# Hata toplam Lost:\n",
    "Fault_total_Lost=FaultsT22[['Event ID','Category','Description','Lost Production (kWh)']].groupby(['Event ID','Category','Description']).sum().sort_values(by='Lost Production (kWh)',ascending=False)\n",
    "\n",
    "## En son hepsini merge et!"
   ]
  },
  {
   "cell_type": "code",
   "execution_count": null,
   "metadata": {},
   "outputs": [],
   "source": [
    "sum_list=LogsT02.isna().sum()"
   ]
  },
  {
   "cell_type": "code",
   "execution_count": null,
   "metadata": {},
   "outputs": [],
   "source": [
    "#CollectData from given dataset\n",
    "CollectDataFromCSV().upload_all_datasets() \n",
    "\n",
    "#Clearn-Normalize-Combine dataset\n",
    "Data_Preprocessing().preprocessing()"
   ]
  },
  {
   "cell_type": "code",
   "execution_count": null,
   "metadata": {},
   "outputs": [],
   "source": [
    "Features_not_normalT02=Upload_Download_Pickle().download_pickle(prepath, 'Features_not_normalT02')\n",
    "Labels_not_normalT02=Upload_Download_Pickle().download_pickle(prepath, 'Labels_not_normalT02')\n",
    "Features_not_normalT22=Upload_Download_Pickle().download_pickle(prepath, 'Features_not_normalT22')\n",
    "Labels_not_normalT22=Upload_Download_Pickle().download_pickle(prepath, 'Labels_not_normalT22')\n",
    "Logs_all_fillT22=Upload_Download_Pickle().download_pickle(prepath, 'Logs_all_fillT22')\n",
    "Logs_all_fillT02=Upload_Download_Pickle().download_pickle(prepath, 'Logs_all_fillT02')"
   ]
  },
  {
   "cell_type": "code",
   "execution_count": null,
   "metadata": {},
   "outputs": [],
   "source": [
    "Labels_not_normalT02[\"Events_binary\"].unique()"
   ]
  },
  {
   "cell_type": "code",
   "execution_count": null,
   "metadata": {},
   "outputs": [],
   "source": [
    "Labels_not_normalT02.columns"
   ]
  },
  {
   "cell_type": "code",
   "execution_count": null,
   "metadata": {},
   "outputs": [],
   "source": [
    "#Combine Multiple Identical Datasets\n",
    "Combine_Datasets().multi_combine_dataset()"
   ]
  },
  {
   "cell_type": "code",
   "execution_count": null,
   "metadata": {},
   "outputs": [],
   "source": [
    "#PERIOD yerine YEAR_MONTH_DAY geldi.\n",
    "Features_df=Upload_Download_Pickle().download_pickle(cpath, 'Features_df')\n",
    "AllLabels_df=Upload_Download_Pickle().download_pickle(cpath, 'AllLabels_df')\n",
    "Labels_df=Upload_Download_Pickle().download_pickle(cpath, 'Labels_df')\n"
   ]
  },
  {
   "cell_type": "code",
   "execution_count": null,
   "metadata": {},
   "outputs": [],
   "source": [
    "combined_data.columns"
   ]
  },
  {
   "cell_type": "code",
   "execution_count": null,
   "metadata": {},
   "outputs": [],
   "source": [
    "# Değişkenleri rename ettim:\n",
    "renamecolumns= {'timestamp':'Period','WTG_ID':'Turbine_Number','Unnamed: 0': 'Period','Power (kW)':'Power_kW','Angle rotor position (°)':'Rotor_angle_degree','Rotor speed (PLC) (rpm)':'Rotor_rpm','BuddyYawOffset (°)': 'BuddyYawOffset_degree','CCU current (A)': 'CCU_current_A','CCU power (kW)': 'CCU_power_kW','CCU reactive power (kVAr)': 'CCU_reactive_power_kVAr','CCU voltage (V)': 'CCU_voltage_V','Circuit breaker cut-ins': 'CCU_Circuit_breaker_cutins','Current A (A)': 'Current_A_A','Current B (A)': 'Current_B_A','Current C (A)': 'Current_C_A','Drip loop power cable temperature 1 (°C)': 'Drip_loop_power_cable_temp_1','Drip loop power cable temperature 2 (°C)': 'Drip_loop_power_cable_temp_2','Drive train acceleration (mm/s²)': 'Drive_train_acc_mm_s2','Generator Temp. 3 (°C)': 'Generator_temp_3_C','Generator speed (CCU) (rpm)': 'CCU_Generator_speed_rpm','Hydraulic prepressure (bar)': 'Hydraulic_prepressure_bar','Line frequency (Hz)': 'Line_freq_Hz','Mainframe acceleration lateral (mm/s²)': 'Mainframe_acc_lateral','Mainframe acceleration vertical (mm/s²)': 'Mainframe_acc_vertical','Mom. D filtered (kNm)': 'Mom_D_filtered','Mom. Q filltered (kNm)': 'Mom_Q_filtered','Moment D direction (kNm)': 'Mom_D_direction','Moment Q direction (kNm)': 'Mom_Q_direction','Nacelle position (°)':'Nacelle_Position','Generator speed (PLC) (rpm)':'Generator_rpm','Torque, actual value (%)':'Torque_act_Percent','Torque, set value (%)':'Torque_set_Percent','Tower acceleration  normal (mm/s²)':'Tower_acc_normal','Tower acceleration lateral (mm/s²)':'Tower_acc_lateral','Temp. tower base (°C)':'Tower_base_temp_C','Temp. Ambient (°C)':'Ambient_temp_C','Windspeed a. 1 (m/s)':'Windspeed_a1_m_s','Temp. gear box bearing (°C)':'gearboxbearing_temp_C','Temp. GBX bearing hollow shaft (°C)':'GBX_bearing_hollow_shaft_temp_C','T_GBX_OIL_1 (°C)':'GBX_OIL1_temp_C','T_GBX_OIL_2 (°C)':'GBX_OIL2_temp_C','T_GBX_T1-HSS (°C)':'GBX_T1_HSS_temp_C','T_GBX_T3-HSS (°C)':'GBX_T3_HSS_temp_C','T_GBX_T1-IMS (°C)':'GBX_T1_IMS_temp_C','T_GBX_T3-IMS (°C)':'GBX_T3_IMS_temp_C','T_GBX_Distr (°C)':'GBX_Distr_temp_C','T_GBX_OIL (°C)':'GBX_OIL_temp_C','Temp. shaft bearing 1 (°C)':'Shaft_bearing1_temp_C','Temp. shaft bearing 2 (°C)':'Shaft_bearing2_temp_C','Prox. sensor 45° (mm)':'Prox_sensor45_mm','Prox. sensor 135° (mm)':'Prox_sensor135_mm','Prox. sensor 225° (mm)':'Prox_sensor225_mm','Prox. sensor 315° (mm)':'Prox_sensor315_mm','Blade 2, actual value A (°)':'Blade2_act_val_A_degree','Blade 2 actual value B (°)':'Blade2_act_val_B_degree','Blade 2, set value (°)':'Blade2_set_val_degree','Blade 3, actual value A (°)':'Blade3_act_val_A_degree','Blade 3 actual value B (°)':'Blade3_act_val_B_degree','Blade 3, set value (°)':'Blade3_set_val_degree','Blade 1, set value (°)':'Blade1_set_val_degree','Blade 1, actual value A (°)':'Blade1_act_val_A_degree','Blade 1 actual value B (°)':'Blade1_act_val_B_degree','Nacelle revolution' :  'Nacelle_rev','Nacelle revolution.1' :  'Nacelle_rev.1','Operating state' :  'Operating_state','Operating state.1' :  'Operating_state_1','Particle counter' :  'Particle_counter','Particle counter.1' :  'Particle_counter_1','Pitch Offset 1 ALC (°)' :  'Pitch_offset_1_ALC_deg','Pitch Offset 1 ALC (°).1' :  'Pitch_offset_1_ALC_deg_1','Pitch Offset 2 ALC (°)' :  'Pitch_offset_2_ALC_deg','Pitch Offset 2 ALC (°).1' :  'Pitch_offset_2_ALC_deg_1','Pitch Offset 3 ALC (°)' :  'Pitch_offset_3_ALC_deg','Pitch Offset 3 ALC (°).1' :  'Pitch_offset_3_ALC_deg_1','Pitch demand baseline (°)' :  'Pitch_demand_baseline_def','Pitch demand baseline (°).1' :  'Pitch_demand_baseline_def_1','PitchOffset Tower feedback (°)' :  'Pitch_offset_tower_feedback','PitchOffset Tower feedback (°).1' :  'Pitch_offset_tower_feedback_1','Power (kW).1' :  'Power_kW_1','Power factor' :  'Power_factor','Power factor, set value' :  'Power_factor_set_value','Reactive power (kVAr)' :  'Reactive_power_kVar','Rotor lock position (°)' :  'Rotor_lock_position','Scope CH 1' :  'Scope_CH_1','Scope CH 2' :  'Scope_CH_2','Scope CH 3' :  'Scope_CH_3','Scope CH 4' :  'Scope_CH_4','State and Fault' :  'State_Fault','Temp. Axis box 1 (°C)' :  'Temp_Axis_box_1','Temp. Axis box 2 (°C)' :  'Temp_Axis_box_2','Temp. Axis box 3 (°C)' :  'Temp_Axis_box_3','Temp. Heat Exchanger CCU (°C)' :  'Temp_Heat_Exch_CCU','Temp. Nacelle (°C)' :  'Temp_Nacelle','Temp. Trafo 1 690 V (°C)' :  'Temp_Trafo_1','Temp. Trafo 2 690 V (°C)' :  'Temp_Trafo_2','Temp. Trafo 3 690 V (°C)' :  'Temp_Trafo_3','Temp. battery box 1 (°C)' :  'Temp_battery_box_1','Temp. battery box 2 (°C)' :  'Temp_battery_box_2','Temp. battery box 3 (°C)' :  'Temp_battery_box_3','Temp. bearing A (°C)' :  'Temp_bearing_A','Temp. bearing B (°C)' :  'Temp_bearing_B','Temp. generator 1 (°C)' :  'Temp_generator_1','Temp. generator 2 (°C)' :  'Temp_generator_2','Temp. generator cooling air (°C)' :  'Temp_generator_cool_air','Temperatue 2nd Outside (°C)' :  'Temp_2nd_Outside','Temperature MCC cabinet (°C)' :  'Temp_MCC_cabinet','Temperature slip ring (°C)' :  'Temp_slip_ring','Temperature top box (°C)' :  'Temp_top_box','TorqueOffset tower feedback (Nm)' :  'Torque_Offset_tower_feedback_Nm','Tower acc. lateral raw (mm/s²)' :  'Tower_acc_lateral_raw_mm_s2','Tower acc. normal raw (mm/s²)' :  'Tower_acc_normal_raw_mm_s2','Tower deflection (ms)' :  'Tower_deflection_ms','Turbine State' :  'Turbine_State','Voltage A-N (V)' :  'Voltage_A_N','Voltage B-N (V)' :  'Voltage_B_N','Voltage C-N (V)' :  'Voltage_C_N','Wind deviation 1 sec. (°)' :  'Wind_dev_1_sec','Wind deviation 10 sec. (°)' :  'Wind_dev_10_sec','Wind deviation 2, 1 sec. (°)' :  'Wind_dev_2_1_sec','Wind deviation 2, 10 sec. (°)' :  'Wind_dev_2_10_sec','Wind speed (m/s)' :  'Wind_speed_m_s','Windspeed a. 2 (m/s)' :  'Windspeed_a2_m_s','n-set 1 (rpm)' :  'nset_1_rpm','n-set 1 (rpm).1' :  'nset_1_rpm_1','n-set 2 (rpm)' :  'nset_2_rpm','n-set 2 (rpm).1' :  'nset_2_rpm_1'\n",
    "              ,'10s wind speed average (m/s)' : '10s_wind_speed_avg_m_s','10s power average (kW)':'10s_power_avg',\n",
    "'Der. Thrust with respect to pitch (kN/rad)':'Thrust_respect_pitch_kN_rad',\n",
    "'Delta Pitch ATC (°)':'Delta_Pitch_ATC','Filtered Wind speed estimator (m/s)':'Filtered_Wind_speed_est_m_s',\n",
    "'External power limit (kW)':'Ext_power_lmt_kW',\n",
    "'Estimated Thrust (kN)':'Est_Thrust_kN',\n",
    "'Der. Thrust with respet to wind speed (kNs/m)':'Thrust_respect_windspeed_kNs_m',\n",
    "'Der. Thrust with respect to rotor speed (kNs/rad)':'Thrust_respect_rotorspeed_kNs_rad',\n",
    "'Internal power limit (kW)':'Interal_power_lmt',\n",
    "'Maximal power increase (kW/s)':'Max_power_inc',\n",
    "'Maximal power decrease (kW/s)':'Max_power_dec',\n",
    "'Minimum Pitch ATC (°)':'Min_Pitch_ATC',\n",
    "'Possible power sent to WFMS (kW)':'Poss_power_WFMS_kW',\n",
    "'Rotor acceleration estimator (rad/s²)':'Rotor_acc_est_rad_s2',\n",
    "'Thrust limit ATC (kN)':'Thrust_limit_ATC_kN',\n",
    "'Thrust standard dev. ATC (kN)':'Thrust_std_dev_ATC_kN',\n",
    "'Thrust level ATC (kN)':'Thrust_std_level_ATC_kN',\n",
    "'Thrust extreme ATC (kN)':'Thrust_ext_ATC_kN',\n",
    "'Thrust extrapolated ATC (kN)':'Thrust_extrapolated_ATC_kN',\n",
    "'Wind acceleration estimator (m/s²)':'Wind_acc_est_m_s2',\n",
    "'Wind speed estimator (m/s)':'Wind_speed_est_m_s2',\n",
    "'Event ID':'Event_ID',\n",
    "'Fault':'Events_binary',                \n",
    "'Lost Production (kWh)':'Lost_Production_kWh' }\n",
    "#combined_data.head()\n",
    "logs = combined_data.rename(columns=renamecolumns)\n",
    "lab_col=['Period','Turbine_Number','Events_binary','Event_ID','Category','Description','Lost_Production_kWh']\n",
    "Labels_df=logs[lab_col]\n",
    "Labels_df.columns=['Period','Turbine_Number','Events_binary','Event_ID','Category','Description','Lost_Production_kWh']\n",
    "Features_df=logs.drop(['Turbine_Number','Event_ID','Category','Description','Lost_Production_kWh'],axis=1)\n",
    "for i in logs.Turbine_Number.unique():\n",
    "    print(i)\n",
    "    df_turbine=logs[logs.Turbine_Number==i]\n",
    "    lab_turbine=Labels_df[Labels_df.Turbine_Number==i]\n",
    "    df_turbine=df_turbine.drop('Turbine_Number',axis=1)\n",
    "    Upload_Download_Pickle().save_dataset_pickle(prepath,  'Features'+str(i), df_turbine)\n",
    "    Upload_Download_Pickle().save_dataset_pickle(prepath,  'Labels'+str(i), lab_turbine)\n",
    "        "
   ]
  },
  {
   "cell_type": "code",
   "execution_count": null,
   "metadata": {},
   "outputs": [],
   "source": [
    "#Combine Multiple Identical Datasets\n",
    "Combine_Datasets().multi_combine_dataset()"
   ]
  },
  {
   "cell_type": "code",
   "execution_count": null,
   "metadata": {},
   "outputs": [],
   "source": [
    "#Sonrasında Imputation uygula bir verilen değerler için bir de np.nan değerler için:\n",
    "Basic_Imputation().impute_before_split()\n",
    "Features_df_new=Upload_Download_Pickle().download_pickle(cpath, 'Features_df_new')\n",
    "Features_List_new=Upload_Download_Pickle().download_pickle(cpath, 'Features_List_new')\n",
    "#Fillna values with -999999\n",
    "Features_df_new=Features_df_new.fillna(-999999)\n",
    "Features_list_new_v1=[]\n",
    "for data in Features_List_new:    \n",
    "    data=data.fillna(-999999)\n",
    "    Features_list_new_v1.append(data)\n",
    "    \n",
    "Upload_Download_Pickle().save_dataset_pickle(cpath,'Features_df_new',Features_df_new)\n",
    "Upload_Download_Pickle().save_dataset_pickle(cpath,'Features_List_new',Features_list_new_v1)\n",
    "\n",
    "Default_values=[-999999,-888888]\n",
    "Features_df_new_v2=Features_df_new.replace(Default_values, np.nan)\n",
    "Features_list_new_v2=[]\n",
    "for data in Features_list_new_v1:    \n",
    "    data=data.replace(Default_values, np.nan)\n",
    "    Features_list_new_v2.append(data)\n",
    "    \n",
    "Upload_Download_Pickle().save_dataset_pickle(cpath,'Features_df_nan',Features_df_new_v2)\n",
    "Upload_Download_Pickle().save_dataset_pickle(cpath,'Features_List_nan',Features_list_new_v2)\n",
    "#Split Train Test (Horizontal ayır)\n",
    "Split_Train_Test().split_train_testset()\n",
    "#Burda anomaly ve nan değerleri için exstra imputation yapılabilir.\n",
    "#tum default değerleri nan ile değiştir. meta data muhabbetine bak!\n",
    "X_test=Upload_Download_Pickle().download_pickle(path, 'X_test')\n",
    "y_test=Upload_Download_Pickle().download_pickle(path, 'y_test')\n",
    "X_trains=Upload_Download_Pickle().download_pickle(path, 'X_trains')\n",
    "y_trains=Upload_Download_Pickle().download_pickle(path, 'y_trains')\n",
    "#default değerler nan ile değiştirme kodu?"
   ]
  },
  {
   "cell_type": "code",
   "execution_count": null,
   "metadata": {},
   "outputs": [],
   "source": [
    "Basic_Elemination().featureSelection() \n",
    "#Feature Extraction: Normalize Smooth diff etc.\n",
    "#Sonrasında Feature Selection bunu yaparken nan değerleri default değerlerle dolu halini kullan.\n",
    "#Fault Detection Çalıştır. bunu yaparken de mümkünse proba kullan prob sonuçlarının yerine!! zor iş brace yourself \n",
    "# 1 gün öncesine kadar tagle öyle bakalım."
   ]
  },
  {
   "cell_type": "code",
   "execution_count": null,
   "metadata": {},
   "outputs": [],
   "source": [
    "Features_df_new.head()"
   ]
  },
  {
   "cell_type": "code",
   "execution_count": null,
   "metadata": {},
   "outputs": [],
   "source": [
    "meta=Upload_Download_Pickle().download_pickle(path, 'meta')"
   ]
  },
  {
   "cell_type": "code",
   "execution_count": null,
   "metadata": {},
   "outputs": [],
   "source": [
    "meta.groupby('STATUS').count()"
   ]
  },
  {
   "cell_type": "code",
   "execution_count": null,
   "metadata": {},
   "outputs": [],
   "source": [
    "meta[meta['STATUS']=='KEEP']"
   ]
  },
  {
   "cell_type": "code",
   "execution_count": null,
   "metadata": {},
   "outputs": [],
   "source": [
    "Basic_Imputation().impute_before_split()"
   ]
  },
  {
   "cell_type": "code",
   "execution_count": null,
   "metadata": {},
   "outputs": [],
   "source": [
    "#EDA için \n",
    "# Power ve wind fault/normal her turbine için çizdir.Pitch angle\n",
    "#1.farklı stateler ile (Turbine State, Operating state, State and Faults ) Voltage ve Power değerleri için dağılım ve aralıklara bakılacak\n"
   ]
  },
  {
   "cell_type": "code",
   "execution_count": null,
   "metadata": {},
   "outputs": [],
   "source": [
    "#Feature Selection with Hybrid method # char değişkenleri dummification\n",
    "Hybrid().featureSelection()"
   ]
  },
  {
   "cell_type": "raw",
   "metadata": {},
   "source": [
    "\n",
    "Features_df['YEAR_MONTH']=Features_df['Period'].astype('datetime64[ns]').dt.year*100+Features_df['Period'].astype('datetime64[ns]').dt.month\n",
    "Features_df['DAY']=Features_df['Period'].astype('datetime64[ns]').dt.day\n",
    "\n",
    "Labels_df['YEAR_MONTH']=Labels_df['Period'].astype('datetime64[ns]').dt.year*100+Labels_df['Period'].astype('datetime64[ns]').dt.month\n",
    "Labels_df['DAY']=Labels_df['Period'].astype('datetime64[ns]').dt.day\n",
    "\n",
    "AllLabels_df['YEAR_MONTH']=AllLabels_df['Period'].astype('datetime64[ns]').dt.year*100+AllLabels_df['Period'].astype('datetime64[ns]').dt.month\n",
    "AllLabels_df['DAY']=AllLabels_df['Period'].astype('datetime64[ns]').dt.day\n",
    "\n",
    "\n",
    "#OOT Dataset\n",
    "Features_oot=Features_df[Features_df['YEAR_MONTH']==201912].copy()\n",
    "AllLabels_oot=AllLabels_df[AllLabels_df['YEAR_MONTH']==201912].copy()\n",
    "Labels_oot=Labels_df[Labels_df['YEAR_MONTH']==201912].copy()\n",
    "Features_df=Features_df[Features_df['YEAR_MONTH']<201912].copy()\n",
    "AllLabels_df=AllLabels_df[AllLabels_df['YEAR_MONTH']<201912].copy()\n",
    "Labels_df=Labels_df[Labels_df['YEAR_MONTH']<201912].copy()\n",
    "\n",
    "Upload_Download_Pickle().save_dataset_pickle(cpath,'Features_oot',Features_oot)\n",
    "Upload_Download_Pickle().save_dataset_pickle(cpath,'AllLabels_oot',AllLabels_oot)\n",
    "Upload_Download_Pickle().save_dataset_pickle(cpath,'Labels_oot',Labels_oot)\n",
    "\n",
    "Upload_Download_Pickle().save_dataset_pickle(cpath,'Features_df',Features_df)\n",
    "Upload_Download_Pickle().save_dataset_pickle(cpath,'AllLabels_df',AllLabels_df)\n",
    "Upload_Download_Pickle().save_dataset_pickle(cpath,'Labels_df',Labels_df)\n"
   ]
  },
  {
   "cell_type": "raw",
   "metadata": {},
   "source": [
    "Features_df[['Power_kW_avg','Windspeed_m_s_avg']]"
   ]
  },
  {
   "cell_type": "raw",
   "metadata": {},
   "source": [
    "Features_df[['Power_kW_avg','Windspeed_m_s_avg']].plot()\n"
   ]
  },
  {
   "cell_type": "code",
   "execution_count": null,
   "metadata": {},
   "outputs": [],
   "source": [
    "Features_df[Features_df['Events_binary']==1]['State_Fault'].unique()"
   ]
  },
  {
   "cell_type": "raw",
   "metadata": {},
   "source": [
    "Vertical_Split().split_train_testset()"
   ]
  },
  {
   "cell_type": "code",
   "execution_count": null,
   "metadata": {},
   "outputs": [],
   "source": [
    "#Split Hold-0ut Dataset\n",
    "Split_Train_Test().split_train_testset()"
   ]
  },
  {
   "cell_type": "code",
   "execution_count": null,
   "metadata": {},
   "outputs": [],
   "source": [
    "X_test=Upload_Download_Pickle().download_pickle(path, 'X_test')\n",
    "y_test=Upload_Download_Pickle().download_pickle(path, 'y_test')\n",
    "X_tests_list=Upload_Download_Pickle().download_pickle(path, 'X_tests_list')\n",
    "y_trains=Upload_Download_Pickle().download_pickle(path, 'y_trains')"
   ]
  },
  {
   "cell_type": "code",
   "execution_count": null,
   "metadata": {},
   "outputs": [],
   "source": [
    "Normalize().featureExtraction()"
   ]
  },
  {
   "cell_type": "code",
   "execution_count": null,
   "metadata": {},
   "outputs": [],
   "source": [
    "Basic_Elemination().featureSelection()"
   ]
  },
  {
   "cell_type": "code",
   "execution_count": null,
   "metadata": {},
   "outputs": [],
   "source": [
    "meta=Upload_Download_Pickle().download_pickle(path, 'meta')"
   ]
  },
  {
   "cell_type": "code",
   "execution_count": null,
   "metadata": {},
   "outputs": [],
   "source": [
    "meta.groupby('STATUS').count()"
   ]
  },
  {
   "cell_type": "code",
   "execution_count": null,
   "metadata": {},
   "outputs": [],
   "source": [
    "#Feature Selection with Hybrid method\n",
    "Hybrid().featureSelection()"
   ]
  },
  {
   "cell_type": "code",
   "execution_count": null,
   "metadata": {},
   "outputs": [],
   "source": [
    "meta=Upload_Download_Pickle().download_pickle(path, 'meta')"
   ]
  },
  {
   "cell_type": "code",
   "execution_count": null,
   "metadata": {},
   "outputs": [],
   "source": [
    "meta.groupby('STATUS').count()"
   ]
  },
  {
   "cell_type": "code",
   "execution_count": null,
   "metadata": {},
   "outputs": [],
   "source": [
    "X_trains_ext=Upload_Download_Pickle().download_pickle(path, 'X_trains_ext')\n",
    "X_trains_list_ext=Upload_Download_Pickle().download_pickle(path, 'X_trains_list_ext')\n",
    "X_test_ext=Upload_Download_Pickle().download_pickle(path, 'X_test_ext')\n",
    "X_test_list_ext=Upload_Download_Pickle().download_pickle(path, 'X_test_list_ext')\n",
    "y_tests_list=Upload_Download_Pickle().download_pickle(path, 'y_tests_list')"
   ]
  },
  {
   "cell_type": "code",
   "execution_count": null,
   "metadata": {},
   "outputs": [],
   "source": [
    "X_trains_list[0].head()"
   ]
  },
  {
   "cell_type": "code",
   "execution_count": null,
   "metadata": {},
   "outputs": [],
   "source": [
    "len(y_tests_list)"
   ]
  },
  {
   "cell_type": "code",
   "execution_count": null,
   "metadata": {},
   "outputs": [],
   "source": [
    "X_trains_ext.dtypes"
   ]
  },
  {
   "cell_type": "code",
   "execution_count": null,
   "metadata": {},
   "outputs": [],
   "source": [
    "XGBoost_Tune().Model()"
   ]
  },
  {
   "cell_type": "code",
   "execution_count": null,
   "metadata": {},
   "outputs": [],
   "source": [
    "# Create & Predict \n",
    "XGBoost_Tune().Model()\n",
    "LightGBM_Tune().Model()\n",
    "CatBoost_Tune().Model()\n",
    "#Random_Forest_Tune().Model()\n",
    "#Voting().Model()\n",
    "#SVC_Tune().Model()"
   ]
  },
  {
   "cell_type": "code",
   "execution_count": null,
   "metadata": {},
   "outputs": [],
   "source": [
    "Random_Forest_Tune().Model()"
   ]
  },
  {
   "cell_type": "code",
   "execution_count": null,
   "metadata": {},
   "outputs": [],
   "source": [
    "processed_path=Config_Paths().get_processed_path()\n",
    "selectedfeatures = Upload_Download_Pickle().download_pickle(processed_path, 'selectedfeatures')\n"
   ]
  },
  {
   "cell_type": "code",
   "execution_count": null,
   "metadata": {},
   "outputs": [],
   "source": [
    "selectedfeatures"
   ]
  },
  {
   "cell_type": "code",
   "execution_count": 3,
   "metadata": {},
   "outputs": [
    {
     "name": "stdout",
     "output_type": "stream",
     "text": [
      "{'max_depth': [5, 7, 8], 'min_child_weight': [0.01, 1.0]}\n"
     ]
    },
    {
     "ename": "AttributeError",
     "evalue": "module 'numpy' has no attribute 'arrange'",
     "output_type": "error",
     "traceback": [
      "\u001b[1;31m---------------------------------------------------------------------------\u001b[0m",
      "\u001b[1;31mAttributeError\u001b[0m                            Traceback (most recent call last)",
      "\u001b[1;32m<ipython-input-3-0961daf95eb8>\u001b[0m in \u001b[0;36m<module>\u001b[1;34m\u001b[0m\n\u001b[0;32m      1\u001b[0m \u001b[1;31m# Create Model Metrics according to test sets\u001b[0m\u001b[1;33m\u001b[0m\u001b[1;33m\u001b[0m\u001b[1;33m\u001b[0m\u001b[0m\n\u001b[1;32m----> 2\u001b[1;33m \u001b[0mXGBoost_Tune\u001b[0m\u001b[1;33m(\u001b[0m\u001b[1;33m)\u001b[0m\u001b[1;33m.\u001b[0m\u001b[0mModel_Metrics\u001b[0m\u001b[1;33m(\u001b[0m\u001b[1;34m'classification'\u001b[0m\u001b[1;33m)\u001b[0m\u001b[1;33m\u001b[0m\u001b[1;33m\u001b[0m\u001b[0m\n\u001b[0m",
      "\u001b[1;32m~\\Documents\\Git\\Diagnostic_2020_New_Model\\src\\model\\Classification\\Main\\Metrics.py\u001b[0m in \u001b[0;36mModel_Metrics\u001b[1;34m(self, type_, y_test, y_tests_list)\u001b[0m\n\u001b[0;32m     43\u001b[0m                 \u001b[1;31m#Threshold analysis\u001b[0m\u001b[1;33m\u001b[0m\u001b[1;33m\u001b[0m\u001b[1;33m\u001b[0m\u001b[0m\n\u001b[0;32m     44\u001b[0m \u001b[1;33m\u001b[0m\u001b[0m\n\u001b[1;32m---> 45\u001b[1;33m                 \u001b[0mthresholds\u001b[0m\u001b[1;33m=\u001b[0m\u001b[0mnp\u001b[0m\u001b[1;33m.\u001b[0m\u001b[0marrange\u001b[0m\u001b[1;33m(\u001b[0m\u001b[1;36m0\u001b[0m\u001b[1;33m,\u001b[0m\u001b[1;36m1\u001b[0m\u001b[1;33m,\u001b[0m\u001b[1;36m0.01\u001b[0m\u001b[1;33m)\u001b[0m\u001b[1;33m\u001b[0m\u001b[1;33m\u001b[0m\u001b[0m\n\u001b[0m\u001b[0;32m     46\u001b[0m                 \u001b[0mmetrics\u001b[0m \u001b[1;33m=\u001b[0m \u001b[0mdict\u001b[0m\u001b[1;33m.\u001b[0m\u001b[0mfromkeys\u001b[0m\u001b[1;33m(\u001b[0m\u001b[0mthresholds\u001b[0m\u001b[1;33m)\u001b[0m\u001b[1;33m\u001b[0m\u001b[1;33m\u001b[0m\u001b[0m\n\u001b[0;32m     47\u001b[0m                 \u001b[0mresults_train\u001b[0m \u001b[1;33m=\u001b[0m \u001b[0mself\u001b[0m\u001b[1;33m.\u001b[0m\u001b[0mclassification_model_metrics\u001b[0m\u001b[1;33m(\u001b[0m\u001b[0mmetrics\u001b[0m\u001b[1;33m,\u001b[0m\u001b[0my_train\u001b[0m\u001b[1;33m,\u001b[0m\u001b[0my_pred_train_proba\u001b[0m\u001b[1;33m)\u001b[0m\u001b[1;33m\u001b[0m\u001b[1;33m\u001b[0m\u001b[0m\n",
      "\u001b[1;31mAttributeError\u001b[0m: module 'numpy' has no attribute 'arrange'"
     ]
    }
   ],
   "source": [
    "# Create Model Metrics according to test sets\n",
    "XGBoost_Tune().Model_Metrics('classification')"
   ]
  },
  {
   "cell_type": "code",
   "execution_count": null,
   "metadata": {},
   "outputs": [],
   "source": [
    "# Create Model Metrics according to test sets\n",
    "XGBoost_Tune().Model_Metrics('classification')\n",
    "LightGBM_Tune().Model_Metrics('classification')\n",
    "CatBoost_Tune().Model_Metrics('classification')\n",
    "Random_Forest_Tune().Model_Metrics('classification')\n",
    "#SVC_Tune().Model_Metrics('classification')"
   ]
  },
  {
   "cell_type": "code",
   "execution_count": null,
   "metadata": {},
   "outputs": [],
   "source": [
    "# Plot Results of Grid Search\n",
    "XGBoost_Tune().grid_plot()\n",
    "LightGBM_Tune().grid_plot()\n",
    "CatBoost_Tune().grid_plot()\n",
    "Random_Forest_Tune().grid_plot()\n",
    "SVC_Tune().grid_plot()"
   ]
  },
  {
   "cell_type": "code",
   "execution_count": null,
   "metadata": {},
   "outputs": [],
   "source": [
    "# Plot Results of Grid Search\n",
    "XGBoost_Tune().grid_plot()"
   ]
  },
  {
   "cell_type": "code",
   "execution_count": null,
   "metadata": {},
   "outputs": [],
   "source": []
  }
 ],
 "metadata": {
  "kernelspec": {
   "display_name": "Python 3",
   "language": "python",
   "name": "python3"
  },
  "language_info": {
   "codemirror_mode": {
    "name": "ipython",
    "version": 3
   },
   "file_extension": ".py",
   "mimetype": "text/x-python",
   "name": "python",
   "nbconvert_exporter": "python",
   "pygments_lexer": "ipython3",
   "version": "3.7.4"
  }
 },
 "nbformat": 4,
 "nbformat_minor": 4
}
