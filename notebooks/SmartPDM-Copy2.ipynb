{
 "cells": [
  {
   "cell_type": "code",
   "execution_count": null,
   "metadata": {},
   "outputs": [],
   "source": [
    "import os\n",
    "import sys\n",
    "sys.path.append('..') \n",
    "import yaml\n",
    "import pandas as pd\n",
    "import numpy as np\n",
    "import pickle\n",
    "from src.utils.utils_p import YamlParser,Upload_Download_Pickle,Config_Paths,Feature_Selection_Configs,Model_Configs,Create_Labels_Configs\n",
    "from src.data.CollectData.CollectDataFromCSV import *\n",
    "from src.preprocessing.Data_Preprocessing import *\n",
    "from src.combineDatasets.Combine_Datasets import *\n",
    "from src.featureProcessing.SplitDataset.Split_Train_Test import *\n",
    "from src.featureProcessing.SplitDataset.Vertical_Split import *\n",
    "from src.featureProcessing.Feature_Selection.Basic_Elemination import *\n",
    "from src.featureProcessing.Feature_Selection.Wrapper import *\n",
    "from src.featureProcessing.Feature_Selection.Hybrid import *\n",
    "from src.featureProcessing.Feature_Extraction.Normalize import *\n",
    "#from src.processing.Model import *\n",
    "from src.model.Classification.Random_Forest_Tuning import *\n",
    "from src.model.Classification.XGBoost_Tuning import *\n",
    "from src.model.Classification.LightGBM_Tuning import *\n",
    "from src.model.Classification.CatBoost_Tuning import *\n",
    "from src.model.Classification.SVC_Tuning import *\n",
    "from src.model.Classification.Voting import *\n",
    "pd.set_option('display.max_columns',None)\n",
    "pd.set_option('display.max_rows',None)"
   ]
  },
  {
   "cell_type": "code",
   "execution_count": null,
   "metadata": {},
   "outputs": [],
   "source": [
    "path=Config_Paths().get_processed_path()\n",
    "cpath=Config_Paths().get_combineddatasets_path()\n",
    "rpath=Config_Paths().get_raw_path()\n",
    "prepath=Config_Paths().get_intermediate_path()\n"
   ]
  },
  {
   "cell_type": "code",
   "execution_count": null,
   "metadata": {},
   "outputs": [],
   "source": []
  },
  {
   "cell_type": "code",
   "execution_count": null,
   "metadata": {},
   "outputs": [],
   "source": [
    "#PERIOD yerine YEAR_MONTH_DAY geldi.\n",
    "LogsT02=Upload_Download_Pickle().download_pickle(prepath, 'Features_not_normalT02')\n",
    "LabelsT02=Upload_Download_Pickle().download_pickle(prepath, 'Labels_not_normalT02')\n",
    "LogsT03=Upload_Download_Pickle().download_pickle(prepath, 'Features_not_normalT03')\n",
    "LogsT52=Upload_Download_Pickle().download_pickle(prepath, 'Features_not_normalT52')\n"
   ]
  },
  {
   "cell_type": "raw",
   "metadata": {},
   "source": [
    "LabelsT02.head()"
   ]
  },
  {
   "cell_type": "code",
   "execution_count": null,
   "metadata": {},
   "outputs": [],
   "source": [
    "LogsT02.State_Fault.astype(int).unique()"
   ]
  },
  {
   "cell_type": "code",
   "execution_count": null,
   "metadata": {},
   "outputs": [],
   "source": [
    "LogsT02=pd.merge(LogsT02,LabelsT02[['Pitch systemEv_multiclass','Pitch systemEv','Period']])"
   ]
  },
  {
   "cell_type": "code",
   "execution_count": null,
   "metadata": {},
   "outputs": [],
   "source": [
    "from datetime import datetime, timedelta\n",
    "LogsT02['onedayPeriod']=LogsT02['Period'].astype('datetime64[ns]')- timedelta(days=1)\n",
    "LogsT02['fivedaysPeriod']=LogsT02['Period'].astype('datetime64[ns]')- timedelta(days=5)\n",
    "LogsT02['fiftheendaysPeriod']=LogsT02['Period'].astype('datetime64[ns]')- timedelta(days=15)\n"
   ]
  },
  {
   "cell_type": "code",
   "execution_count": null,
   "metadata": {},
   "outputs": [],
   "source": [
    "LogsT02=LogsT02.set_index('Period')\n",
    "tag=LogsT02[LogsT02['Pitch systemEv']=='EVENT_134']\n"
   ]
  },
  {
   "cell_type": "code",
   "execution_count": null,
   "metadata": {},
   "outputs": [],
   "source": [
    "for i in tag.index:\n",
    "    print(i)\n",
    "    print(tag.loc[i,'onedayPeriod'])\n",
    "    LogsT02['New_Pitch_systemEv']=np.where((LogsT02.index<=i)&(LogsT02.index>tag.loc[i,'fiftheendaysPeriod']),'EVENT_134_fifthteen',0)    \n",
    "    LogsT02['New_Pitch_systemEv']=np.where((LogsT02.index<=i)&(LogsT02.index>tag.loc[i,'fivedaysPeriod']),'EVENT_134_five',LogsT02['New_Pitch_systemEv'])  \n",
    "    LogsT02['New_Pitch_systemEv']=np.where((LogsT02.index<=i)&(LogsT02.index>tag.loc[i,'onedayPeriod']),'EVENT_134_one',LogsT02['New_Pitch_systemEv'])\n",
    "  \n",
    "    "
   ]
  },
  {
   "cell_type": "code",
   "execution_count": null,
   "metadata": {},
   "outputs": [],
   "source": [
    "LogsT02 ['New_Pitch_systemEv'].unique()"
   ]
  },
  {
   "cell_type": "code",
   "execution_count": null,
   "metadata": {},
   "outputs": [],
   "source": [
    "tag_plot=LogsT02[LogsT02['New_Pitch_systemEv']!=0]"
   ]
  },
  {
   "cell_type": "code",
   "execution_count": null,
   "metadata": {
    "scrolled": true
   },
   "outputs": [],
   "source": [
    "#CollectData from given dataset\n",
    "CollectDataFromCSV().upload_all_datasets() "
   ]
  },
  {
   "cell_type": "code",
   "execution_count": null,
   "metadata": {},
   "outputs": [],
   "source": [
    "col_22=[col.replace(\" 22 \", \" \") for col in LogsT22.columns]\n",
    "col_02=[col.replace(\" 02 \", \" \") for col in LogsT02.columns]"
   ]
  },
  {
   "cell_type": "code",
   "execution_count": null,
   "metadata": {},
   "outputs": [],
   "source": [
    "[items for items in col_02 if items not in col_22]"
   ]
  },
  {
   "cell_type": "code",
   "execution_count": null,
   "metadata": {},
   "outputs": [],
   "source": [
    "[items for items in col_22 if items not in col_02]"
   ]
  },
  {
   "cell_type": "code",
   "execution_count": null,
   "metadata": {},
   "outputs": [],
   "source": [
    "LogsT22=Upload_Download_Pickle().download_pickle(rpath, 'LogsT22')"
   ]
  },
  {
   "cell_type": "code",
   "execution_count": null,
   "metadata": {},
   "outputs": [],
   "source": [
    "FaultsT22=Upload_Download_Pickle().download_pickle(rpath, 'FaultsT22')"
   ]
  },
  {
   "cell_type": "code",
   "execution_count": null,
   "metadata": {},
   "outputs": [],
   "source": [
    "LogsT22.describe()"
   ]
  },
  {
   "cell_type": "code",
   "execution_count": null,
   "metadata": {},
   "outputs": [],
   "source": [
    "# Duration'ı saat'e çevir onu al!\n",
    "FaultsT22['Duration (hh:mm:ss)'].dtypes"
   ]
  },
  {
   "cell_type": "code",
   "execution_count": null,
   "metadata": {},
   "outputs": [],
   "source": [
    "# Hata ne sıklıkla geliyor bunu al!!\n",
    "Fault_count=FaultsT22[['Event ID','Category','Description','Lost Production (kWh)']].groupby(['Event ID','Category','Description']).count()\n",
    "# Hata toplam Lost:\n",
    "Fault_total_Lost=FaultsT22[['Event ID','Category','Description','Lost Production (kWh)']].groupby(['Event ID','Category','Description']).sum().sort_values(by='Lost Production (kWh)',ascending=False)\n",
    "\n",
    "## En son hepsini merge et!"
   ]
  },
  {
   "cell_type": "code",
   "execution_count": null,
   "metadata": {},
   "outputs": [],
   "source": [
    "sum_list=LogsT02.isna().sum()"
   ]
  },
  {
   "cell_type": "code",
   "execution_count": null,
   "metadata": {},
   "outputs": [],
   "source": [
    "#CollectData from given dataset\n",
    "CollectDataFromCSV().upload_all_datasets() \n",
    "\n",
    "#Clearn-Normalize-Combine dataset\n",
    "Data_Preprocessing().preprocessing()"
   ]
  },
  {
   "cell_type": "code",
   "execution_count": null,
   "metadata": {},
   "outputs": [],
   "source": [
    "Features_not_normalT02=Upload_Download_Pickle().download_pickle(prepath, 'Features_not_normalT02')\n",
    "Labels_not_normalT02=Upload_Download_Pickle().download_pickle(prepath, 'Labels_not_normalT02')\n",
    "Features_not_normalT22=Upload_Download_Pickle().download_pickle(prepath, 'Features_not_normalT22')\n",
    "Labels_not_normalT22=Upload_Download_Pickle().download_pickle(prepath, 'Labels_not_normalT22')\n",
    "Logs_all_fillT22=Upload_Download_Pickle().download_pickle(prepath, 'Logs_all_fillT22')\n",
    "Logs_all_fillT02=Upload_Download_Pickle().download_pickle(prepath, 'Logs_all_fillT02')"
   ]
  },
  {
   "cell_type": "code",
   "execution_count": null,
   "metadata": {},
   "outputs": [],
   "source": [
    "Labels_not_normalT02[\"Events_binary\"].unique()"
   ]
  },
  {
   "cell_type": "code",
   "execution_count": null,
   "metadata": {},
   "outputs": [],
   "source": [
    "Labels_not_normalT02.columns"
   ]
  },
  {
   "cell_type": "code",
   "execution_count": null,
   "metadata": {},
   "outputs": [],
   "source": [
    "Features_not_normalT02.head()"
   ]
  },
  {
   "cell_type": "code",
   "execution_count": null,
   "metadata": {},
   "outputs": [],
   "source": [
    "#Combine Multiple Identical Datasets\n",
    "Combine_Datasets().multi_combine_dataset()"
   ]
  },
  {
   "cell_type": "code",
   "execution_count": null,
   "metadata": {},
   "outputs": [],
   "source": [
    "#PERIOD yerine YEAR_MONTH_DAY geldi.\n",
    "Features_df=Upload_Download_Pickle().download_pickle(cpath, 'Features_df')\n",
    "AllLabels_df=Upload_Download_Pickle().download_pickle(cpath, 'AllLabels_df')\n",
    "Labels_df=Upload_Download_Pickle().download_pickle(cpath, 'Labels_df')\n"
   ]
  },
  {
   "cell_type": "code",
   "execution_count": null,
   "metadata": {},
   "outputs": [],
   "source": [
    "Features_df[Features_df['TURBINE_NUMBER'].isin(['T22'])].head()"
   ]
  },
  {
   "cell_type": "raw",
   "metadata": {},
   "source": [
    "\n",
    "Features_df['YEAR_MONTH']=Features_df['Period'].astype('datetime64[ns]').dt.year*100+Features_df['Period'].astype('datetime64[ns]').dt.month\n",
    "Features_df['DAY']=Features_df['Period'].astype('datetime64[ns]').dt.day\n",
    "\n",
    "Labels_df['YEAR_MONTH']=Labels_df['Period'].astype('datetime64[ns]').dt.year*100+Labels_df['Period'].astype('datetime64[ns]').dt.month\n",
    "Labels_df['DAY']=Labels_df['Period'].astype('datetime64[ns]').dt.day\n",
    "\n",
    "AllLabels_df['YEAR_MONTH']=AllLabels_df['Period'].astype('datetime64[ns]').dt.year*100+AllLabels_df['Period'].astype('datetime64[ns]').dt.month\n",
    "AllLabels_df['DAY']=AllLabels_df['Period'].astype('datetime64[ns]').dt.day\n",
    "\n",
    "\n",
    "#OOT Dataset\n",
    "Features_oot=Features_df[Features_df['YEAR_MONTH']==201912].copy()\n",
    "AllLabels_oot=AllLabels_df[AllLabels_df['YEAR_MONTH']==201912].copy()\n",
    "Labels_oot=Labels_df[Labels_df['YEAR_MONTH']==201912].copy()\n",
    "Features_df=Features_df[Features_df['YEAR_MONTH']<201912].copy()\n",
    "AllLabels_df=AllLabels_df[AllLabels_df['YEAR_MONTH']<201912].copy()\n",
    "Labels_df=Labels_df[Labels_df['YEAR_MONTH']<201912].copy()\n",
    "\n",
    "Upload_Download_Pickle().save_dataset_pickle(cpath,'Features_oot',Features_oot)\n",
    "Upload_Download_Pickle().save_dataset_pickle(cpath,'AllLabels_oot',AllLabels_oot)\n",
    "Upload_Download_Pickle().save_dataset_pickle(cpath,'Labels_oot',Labels_oot)\n",
    "\n",
    "Upload_Download_Pickle().save_dataset_pickle(cpath,'Features_df',Features_df)\n",
    "Upload_Download_Pickle().save_dataset_pickle(cpath,'AllLabels_df',AllLabels_df)\n",
    "Upload_Download_Pickle().save_dataset_pickle(cpath,'Labels_df',Labels_df)\n"
   ]
  },
  {
   "cell_type": "raw",
   "metadata": {},
   "source": [
    "Features_df[['Power_kW_avg','Windspeed_m_s_avg']]"
   ]
  },
  {
   "cell_type": "raw",
   "metadata": {},
   "source": [
    "Features_df[['Power_kW_avg','Windspeed_m_s_avg']].plot()\n"
   ]
  },
  {
   "cell_type": "code",
   "execution_count": null,
   "metadata": {},
   "outputs": [],
   "source": [
    "Features_df.describe()"
   ]
  },
  {
   "cell_type": "code",
   "execution_count": null,
   "metadata": {},
   "outputs": [],
   "source": [
    "Features_df[Features_df['Events_binary']==1]['State_Fault'].unique()"
   ]
  },
  {
   "cell_type": "code",
   "execution_count": null,
   "metadata": {},
   "outputs": [],
   "source": [
    "Vertical_Split().split_train_testset()"
   ]
  },
  {
   "cell_type": "code",
   "execution_count": null,
   "metadata": {},
   "outputs": [],
   "source": [
    "#Split Hold-0ut Dataset\n",
    "Split_Train_Test().split_train_testset()"
   ]
  },
  {
   "cell_type": "code",
   "execution_count": null,
   "metadata": {},
   "outputs": [],
   "source": [
    "X_test=Upload_Download_Pickle().download_pickle(path, 'X_test')\n",
    "y_test=Upload_Download_Pickle().download_pickle(path, 'y_test')\n",
    "X_trains=Upload_Download_Pickle().download_pickle(path, 'X_trains')\n",
    "y_trains=Upload_Download_Pickle().download_pickle(path, 'y_trains')"
   ]
  },
  {
   "cell_type": "code",
   "execution_count": null,
   "metadata": {},
   "outputs": [],
   "source": [
    "Normalize().featureExtraction()"
   ]
  },
  {
   "cell_type": "code",
   "execution_count": null,
   "metadata": {},
   "outputs": [],
   "source": [
    "Basic_Elemination().featureSelection()"
   ]
  },
  {
   "cell_type": "code",
   "execution_count": null,
   "metadata": {},
   "outputs": [],
   "source": [
    "meta=Upload_Download_Pickle().download_pickle(path, 'meta')"
   ]
  },
  {
   "cell_type": "code",
   "execution_count": null,
   "metadata": {},
   "outputs": [],
   "source": [
    "meta.groupby('STATUS').count()"
   ]
  },
  {
   "cell_type": "code",
   "execution_count": null,
   "metadata": {},
   "outputs": [],
   "source": [
    "#Feature Selection with Hybrid method\n",
    "Hybrid().featureSelection()"
   ]
  },
  {
   "cell_type": "code",
   "execution_count": null,
   "metadata": {},
   "outputs": [],
   "source": [
    "meta=Upload_Download_Pickle().download_pickle(path, 'meta')"
   ]
  },
  {
   "cell_type": "code",
   "execution_count": null,
   "metadata": {},
   "outputs": [],
   "source": [
    "meta.groupby('STATUS').count()"
   ]
  },
  {
   "cell_type": "code",
   "execution_count": null,
   "metadata": {},
   "outputs": [],
   "source": [
    "X_trains_ext=Upload_Download_Pickle().download_pickle(path, 'X_trains_ext')\n",
    "X_trains_list_ext=Upload_Download_Pickle().download_pickle(path, 'X_trains_list_ext')\n",
    "X_test_ext=Upload_Download_Pickle().download_pickle(path, 'X_test_ext')\n",
    "X_test_list_ext=Upload_Download_Pickle().download_pickle(path, 'X_test_list_ext')"
   ]
  },
  {
   "cell_type": "code",
   "execution_count": null,
   "metadata": {},
   "outputs": [],
   "source": [
    "X_test_list_ext[0].head()"
   ]
  },
  {
   "cell_type": "code",
   "execution_count": null,
   "metadata": {},
   "outputs": [],
   "source": [
    "X_trains_ext.dtypes"
   ]
  },
  {
   "cell_type": "code",
   "execution_count": null,
   "metadata": {},
   "outputs": [],
   "source": [
    "XGBoost_Tune().Model()"
   ]
  },
  {
   "cell_type": "code",
   "execution_count": null,
   "metadata": {},
   "outputs": [],
   "source": [
    "# Create & Predict \n",
    "XGBoost_Tune().Model()\n",
    "LightGBM_Tune().Model()\n",
    "CatBoost_Tune().Model()\n",
    "#Random_Forest_Tune().Model()\n",
    "#Voting().Model()\n",
    "#SVC_Tune().Model()"
   ]
  },
  {
   "cell_type": "code",
   "execution_count": null,
   "metadata": {},
   "outputs": [],
   "source": [
    "Random_Forest_Tune().Model()"
   ]
  },
  {
   "cell_type": "code",
   "execution_count": null,
   "metadata": {},
   "outputs": [],
   "source": [
    "processed_path=Config_Paths().get_processed_path()\n",
    "selectedfeatures = Upload_Download_Pickle().download_pickle(processed_path, 'selectedfeatures')\n"
   ]
  },
  {
   "cell_type": "code",
   "execution_count": null,
   "metadata": {},
   "outputs": [],
   "source": [
    "selectedfeatures"
   ]
  },
  {
   "cell_type": "code",
   "execution_count": null,
   "metadata": {},
   "outputs": [],
   "source": [
    "# Create Model Metrics according to test sets\n",
    "XGBoost_Tune().Model_Metrics('classification')"
   ]
  },
  {
   "cell_type": "code",
   "execution_count": null,
   "metadata": {},
   "outputs": [],
   "source": [
    "# Create Model Metrics according to test sets\n",
    "XGBoost_Tune().Model_Metrics('classification')\n",
    "LightGBM_Tune().Model_Metrics('classification')\n",
    "CatBoost_Tune().Model_Metrics('classification')\n",
    "Random_Forest_Tune().Model_Metrics('classification')\n",
    "#SVC_Tune().Model_Metrics('classification')"
   ]
  },
  {
   "cell_type": "code",
   "execution_count": null,
   "metadata": {},
   "outputs": [],
   "source": [
    "# Plot Results of Grid Search\n",
    "XGBoost_Tune().grid_plot()\n",
    "LightGBM_Tune().grid_plot()\n",
    "CatBoost_Tune().grid_plot()\n",
    "Random_Forest_Tune().grid_plot()\n",
    "SVC_Tune().grid_plot()"
   ]
  },
  {
   "cell_type": "code",
   "execution_count": null,
   "metadata": {},
   "outputs": [],
   "source": [
    "# Plot Results of Grid Search\n",
    "XGBoost_Tune().grid_plot()"
   ]
  },
  {
   "cell_type": "code",
   "execution_count": null,
   "metadata": {},
   "outputs": [],
   "source": []
  }
 ],
 "metadata": {
  "kernelspec": {
   "display_name": "Python 3",
   "language": "python",
   "name": "python3"
  },
  "language_info": {
   "codemirror_mode": {
    "name": "ipython",
    "version": 3
   },
   "file_extension": ".py",
   "mimetype": "text/x-python",
   "name": "python",
   "nbconvert_exporter": "python",
   "pygments_lexer": "ipython3",
   "version": "3.7.4"
  }
 },
 "nbformat": 4,
 "nbformat_minor": 4
}
