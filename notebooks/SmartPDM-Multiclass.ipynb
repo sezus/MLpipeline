{
 "cells": [
  {
   "cell_type": "code",
   "execution_count": null,
   "metadata": {},
   "outputs": [],
   "source": [
    "import os\n",
    "import sys\n",
    "sys.path.append('..') \n",
    "import yaml\n",
    "import pandas as pd\n",
    "import numpy as np\n",
    "import pickle\n",
    "from src.utils.utils_p import YamlParser,Upload_Download_Pickle,Config_Paths,Feature_Selection_Configs,Model_Configs,Create_Labels_Configs\n",
    "from src.data.CollectData.CollectDataFromCSV import *\n",
    "from src.preprocessing.Data_Preprocessing import *\n",
    "from src.combineDatasets.Combine_Datasets import *\n",
    "from src.featureProcessing.SplitDataset.Split_Train_Test import *\n",
    "from src.featureProcessing.Feature_Selection.Wrapper import *\n",
    "from src.featureProcessing.Feature_Selection.Hybrid import *\n",
    "#from src.processing.Model import *\n",
    "from src.model.Classification.Random_Forest_Tuning import *\n",
    "from src.model.Classification.XGBoost_Tuning import *\n",
    "from src.model.Classification.LightGBM_Tuning import *\n",
    "from src.model.Classification.CatBoost_Tuning import *\n",
    "from src.model.Classification.SVC_Tuning import *\n",
    "from src.model.Classification.Voting import *"
   ]
  },
  {
   "cell_type": "code",
   "execution_count": null,
   "metadata": {},
   "outputs": [],
   "source": [
    "CollectDataFromCSV().upload_all_datasets() \n",
    "Data_Preprocessing().preprocessing()"
   ]
  },
  {
   "cell_type": "code",
   "execution_count": null,
   "metadata": {},
   "outputs": [],
   "source": [
    "Combine_Datasets().multi_combine_dataset()\n",
    "Split_Train_Test().split_train_testset()\n",
    "Hybrid().featureSelection()"
   ]
  },
  {
   "cell_type": "code",
   "execution_count": null,
   "metadata": {},
   "outputs": [],
   "source": [
    "XGBoost_Tune().Multi_Model()\n",
    "LightGBM_Tune().Multi_Model()\n",
    "CatBoost_Tune().Multi_Model()\n",
    "Random_Forest_Tune().Multi_Model()\n",
    "SVC_Tune().Multi_Model()"
   ]
  },
  {
   "cell_type": "code",
   "execution_count": null,
   "metadata": {},
   "outputs": [],
   "source": [
    "# Create Model Metrics according to test sets\n",
    "XGBoost_Tune().Model_Metrics('multi_classification')\n",
    "LightGBM_Tune().Model_Metrics('multi_classification')\n",
    "CatBoost_Tune().Model_Metrics('multi_classification')\n",
    "Random_Forest_Tune().Model_Metrics('multi_classification')\n",
    "SVC_Tune().Model_Metrics('multi_classification')\n",
    "\n",
    "# Plot Results of Grid Search--MultiClass çizimler eklenmedi\n"
   ]
  },
  {
   "cell_type": "code",
   "execution_count": null,
   "metadata": {},
   "outputs": [],
   "source": [
    "#Voting().Model()"
   ]
  }
 ],
 "metadata": {
  "kernelspec": {
   "display_name": "Python 3",
   "language": "python",
   "name": "python3"
  },
  "language_info": {
   "codemirror_mode": {
    "name": "ipython",
    "version": 3
   },
   "file_extension": ".py",
   "mimetype": "text/x-python",
   "name": "python",
   "nbconvert_exporter": "python",
   "pygments_lexer": "ipython3",
   "version": "3.7.4"
  }
 },
 "nbformat": 4,
 "nbformat_minor": 2
}
