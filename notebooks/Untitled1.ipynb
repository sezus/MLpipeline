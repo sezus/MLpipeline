{
 "cells": [
  {
   "cell_type": "code",
   "execution_count": 1,
   "metadata": {},
   "outputs": [],
   "source": [
    "import os\n",
    "import sys\n",
    "sys.path.append('..') \n",
    "import yaml\n",
    "import pandas as pd\n",
    "import numpy as np\n",
    "import pickle\n",
    "from src.utils.utils_p import YamlParser,Upload_Download_Pickle,Config_Paths,Feature_Selection_Configs,Model_Configs,Create_Labels_Configs\n",
    "from src.data.CollectData.CollectDataFromCSV import *\n",
    "from src.preprocessing.Data_Preprocessing import *\n",
    "from src.combineDatasets.Combine_Datasets import *\n",
    "from src.featureProcessing.SplitDataset.Split_Train_Test import *\n",
    "from src.featureProcessing.Feature_Selection.Wrapper import *\n",
    "from src.featureProcessing.Feature_Selection.Hybrid import *\n",
    "#from src.processing.Model import *\n",
    "from src.model.Classification.Random_Forest_Tuning import *\n",
    "from src.model.Classification.XGBoost_Tuning import *\n",
    "from src.model.Classification.LightGBM_Tuning import *\n",
    "from src.model.Classification.CatBoost_Tuning import *\n",
    "from src.model.Classification.SVC_Tuning import *\n",
    "from src.model.Classification.Voting import *"
   ]
  },
  {
   "cell_type": "code",
   "execution_count": 2,
   "metadata": {},
   "outputs": [
    {
     "name": "stdout",
     "output_type": "stream",
     "text": [
      "WARNING *** file size (64758) not 512 + multiple of sector size (512)\n",
      "WARNING *** file size (72935) not 512 + multiple of sector size (512)\n",
      "WARNING *** file size (81997) not 512 + multiple of sector size (512)\n",
      "WARNING *** file size (109239) not 512 + multiple of sector size (512)\n",
      "WARNING *** file size (122505) not 512 + multiple of sector size (512)\n",
      "WARNING *** file size (64645) not 512 + multiple of sector size (512)\n",
      "WARNING *** file size (67937) not 512 + multiple of sector size (512)\n",
      "WARNING *** file size (93446) not 512 + multiple of sector size (512)\n"
     ]
    }
   ],
   "source": [
    "CollectDataFromCSV().upload_all_datasets() \n",
    "Data_Preprocessing().preprocessing()"
   ]
  },
  {
   "cell_type": "code",
   "execution_count": null,
   "metadata": {},
   "outputs": [],
   "source": [
    "Upl"
   ]
  }
 ],
 "metadata": {
  "kernelspec": {
   "display_name": "Python 3",
   "language": "python",
   "name": "python3"
  },
  "language_info": {
   "codemirror_mode": {
    "name": "ipython",
    "version": 3
   },
   "file_extension": ".py",
   "mimetype": "text/x-python",
   "name": "python",
   "nbconvert_exporter": "python",
   "pygments_lexer": "ipython3",
   "version": "3.7.4"
  }
 },
 "nbformat": 4,
 "nbformat_minor": 2
}
